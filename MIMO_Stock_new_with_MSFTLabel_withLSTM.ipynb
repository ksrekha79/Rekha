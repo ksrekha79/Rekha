{
 "cells": [
  {
   "cell_type": "code",
   "execution_count": 437,
   "metadata": {},
   "outputs": [],
   "source": [
    "# multivariate output data prep\n",
    "import pandas as pd\n",
    "import matplotlib.pyplot as plt\n",
    "import numpy as np \n",
    "import math\n",
    "from sklearn.preprocessing import MinMaxScaler\n",
    "from sklearn.metrics import mean_squared_error\n",
    "from keras.models import Sequential\n",
    "from keras.layers import Dense, Activation, Dropout\n",
    "from keras.layers import LSTM\n",
    "from keras.callbacks import TensorBoard, EarlyStopping, ModelCheckpoint\n",
    "#import preprocessing"
   ]
  },
  {
   "cell_type": "code",
   "execution_count": 438,
   "metadata": {},
   "outputs": [],
   "source": [
    "np.random.seed(7)"
   ]
  },
  {
   "cell_type": "code",
   "execution_count": 439,
   "metadata": {},
   "outputs": [
    {
     "name": "stdout",
     "output_type": "stream",
     "text": [
      "           Open       High        Low      Close  Label\n",
      "4150  51.130001  51.720001  51.070000  51.160000      1\n",
      "4149  50.720001  51.299999  50.500000  51.169998      1\n",
      "4148  49.910000  50.720001  49.799999  50.540001      1\n",
      "4147  48.919998  49.470001  48.669998  49.439999      1\n",
      "4146  49.099998  49.150002  48.040001  48.430000      0\n",
      "4145  49.810001  50.939999  49.520000  49.830002      0\n",
      "4144  51.279999  52.060001  51.150002  51.910000      1\n",
      "4143  51.080002  51.459999  50.950001  50.990002      0\n",
      "4142  50.200001  51.430000  50.160000  51.189999      1\n",
      "4141  50.639999  50.830002  50.029999  50.070000      1\n",
      "4140  50.410000  50.430000  49.820000  50.130001      0\n",
      "4139  49.520000  50.470001  49.509998  50.389999      1\n",
      "4138  49.779999  50.119999  49.689999  49.689999      0\n",
      "4137  49.900002  50.099998  49.570000  49.830002      0\n",
      "4136  49.580002  50.720001  49.060001  50.139999      0\n",
      "4135  51.049999  52.049999  51.040001  51.480000      0\n",
      "4134  52.000000  52.000000  51.490002  51.619999      0\n",
      "4133  52.020000  52.439999  51.869999  52.040001      1\n",
      "4132  52.240002  52.730000  52.099998  52.099998      1\n",
      "4131  51.990002  52.349998  51.889999  52.130001      1\n",
      "4130  52.380001  52.419998  51.599998  51.790001      0\n",
      "4129  52.639999  52.740002  51.840000  52.480000      1\n",
      "4128  52.439999  52.950001  52.439999  52.849998      1\n",
      "4127  52.259998  53.000000  52.080002  53.000000      0\n",
      "4126  51.919998  52.320000  51.770000  52.320000      1\n",
      "4125  51.930000  51.980000  51.360001  51.889999      0\n",
      "4124  51.919998  52.490002  51.790001  52.119999      1\n",
      "4123  50.700001  51.709999  50.400002  51.590000      1\n",
      "4122  50.599998  50.680000  49.980000  50.029999      0\n",
      "4121  50.480000  51.220001  50.400002  50.619999      1\n",
      "...         ...        ...        ...        ...    ...\n",
      "29    50.617149  50.875000  49.531250  49.812500      0\n",
      "28    52.437500  52.437500  49.562500  49.968750      0\n",
      "27    51.945301  53.281250  51.250000  53.000000      0\n",
      "26    54.718750  54.718750  51.937500  52.000000      1\n",
      "25    53.218750  55.000000  53.218750  54.968750      0\n",
      "24    53.406250  53.437500  52.125000  53.312500      0\n",
      "23    52.187500  54.000000  52.070301  53.281250      1\n",
      "22    51.031250  52.093750  50.062500  51.812500      0\n",
      "21    51.218750  51.968750  50.250000  50.406250      1\n",
      "20    49.250000  51.625000  48.843750  51.468750      1\n",
      "19    48.812500  49.093750  47.437500  48.937500      0\n",
      "18    49.062500  50.125000  48.625000  49.125000      0\n",
      "17    49.945301  50.593750  48.625000  49.375000      1\n",
      "16    51.218750  51.750000  49.562500  49.687500      1\n",
      "15    50.500000  51.937500  49.781250  51.406250      0\n",
      "14    51.898399  52.843750  50.406250  50.625000      0\n",
      "13    53.500000  53.625000  51.625000  51.875000      0\n",
      "12    53.531250  54.843750  52.937500  53.000000      0\n",
      "11    55.250000  55.750000  53.000000  53.500000      0\n",
      "10    55.906250  58.250000  55.875000  57.656250      1\n",
      "9     53.593750  56.968750  52.875000  56.125000      1\n",
      "8     52.187500  54.312500  50.750000  53.906250      1\n",
      "7     54.250000  54.437500  52.218750  52.906250      0\n",
      "6     55.750000  57.125000  54.343750  54.687500      1\n",
      "5     56.718750  56.843750  55.687500  56.125000      1\n",
      "4     54.312500  56.125000  53.656250  55.718750      1\n",
      "3     56.093750  56.937500  54.187500  55.000000      1\n",
      "2     55.562500  58.187500  54.687500  56.906250      0\n",
      "1     56.781250  58.562500  56.125000  56.312500      0\n",
      "0     58.687500  59.312500  56.000000  58.281250      0\n",
      "\n",
      "[4151 rows x 5 columns]\n"
     ]
    }
   ],
   "source": [
    "# IMPORTING DATASET \n",
    "#dataset = pd.read_csv('apple_share_price.csv', usecols=[1,2,3,4])\n",
    "#dataset = pd.read_csv('Stock_with_label.csv', usecols=[1,2,3,4,5])\n",
    "#dataset = pd.read_csv('Stock_with_label_sa.csv', usecols=[1,2,3,4,5])\n",
    "dataset = pd.read_csv('AE_MSFT_SA.csv', usecols=[1,2,3,4,5])\n",
    "#dataset = pd.read_csv('Stock_new_with_AELabel.csv', usecols=[1,2,3,4,5])\n",
    "dataset = dataset.reindex(index = dataset.index[::-1])\n",
    "print(dataset)\n",
    "dataset.shape\n",
    "dataset = dataset.values #return the numpy representation of the given DataFrame.\n",
    "dataset = dataset.astype('float32')"
   ]
  },
  {
   "cell_type": "code",
   "execution_count": 440,
   "metadata": {},
   "outputs": [],
   "source": [
    "# normalize the dataset\n",
    "scaler = MinMaxScaler(feature_range=(0, 1))\n",
    "dataset = scaler.fit_transform(dataset)"
   ]
  },
  {
   "cell_type": "code",
   "execution_count": 441,
   "metadata": {},
   "outputs": [
    {
     "name": "stdout",
     "output_type": "stream",
     "text": [
      "(3320, 5)\n",
      "(831, 5)\n"
     ]
    }
   ],
   "source": [
    "# split into train and test sets\n",
    "train_size = int(len(dataset) * 0.80) #1114\n",
    "test_size = len(dataset) - train_size #550\n",
    "train, test = dataset[0:train_size,:], dataset[train_size:len(dataset),:]\n",
    "print(train.shape) # (1114,4)\n",
    "print(test.shape) #(550,4)"
   ]
  },
  {
   "cell_type": "code",
   "execution_count": 442,
   "metadata": {},
   "outputs": [],
   "source": [
    "# split a multivariate sequence into samples\n",
    "def create_dataset(sequences, n_steps):\n",
    "    X, y = list(), list()\n",
    "    for i in range(len(sequences)):\n",
    "        # find the end of this pattern\n",
    "        end_ix = i + n_steps\n",
    "        # check if we are beyond the dataset\n",
    "        if end_ix > len(sequences)-1:\n",
    "            break\n",
    "        # gather input and output parts of the pattern\n",
    "        seq_x, seq_y = sequences[i:end_ix, :], sequences[end_ix, :]\n",
    "        X.append(seq_x)\n",
    "        y.append(seq_y)\n",
    "    return np.array(X), np.array(y)"
   ]
  },
  {
   "cell_type": "code",
   "execution_count": 443,
   "metadata": {},
   "outputs": [
    {
     "name": "stdout",
     "output_type": "stream",
     "text": [
      "(3318, 2, 5)\n",
      "(3318, 5)\n",
      "(829, 2, 5)\n",
      "(829, 5)\n"
     ]
    }
   ],
   "source": [
    "# reshape into X=t and Y=t+1\n",
    "look_back = 2\n",
    "trainX, trainY = create_dataset(train, look_back)\n",
    "testX, testY = create_dataset(test, look_back)\n",
    "print(trainX.shape)\n",
    "print(trainY.shape)\n",
    "print(testX.shape)\n",
    "print(testY.shape)"
   ]
  },
  {
   "cell_type": "code",
   "execution_count": 444,
   "metadata": {},
   "outputs": [
    {
     "name": "stdout",
     "output_type": "stream",
     "text": [
      "[[[0.82621455 0.82622874 0.87397385 0.8348935  1.        ]\n",
      "  [0.8167865  0.81661606 0.8602123  0.8351254  1.        ]]\n",
      "\n",
      " [[0.8167865  0.81661606 0.8602123  0.8351254  1.        ]\n",
      "  [0.79816043 0.8033415  0.84331226 0.8205188  1.        ]]\n",
      "\n",
      " [[0.79816043 0.8033415  0.84331226 0.8205188  1.        ]\n",
      "  [0.7753953  0.7747325  0.81603074 0.79501516 1.        ]]\n",
      "\n",
      " ...\n",
      "\n",
      " [[0.24029896 0.24420667 0.25808784 0.25387627 0.        ]\n",
      "  [0.23776951 0.23642504 0.2527764  0.24506593 0.        ]]\n",
      "\n",
      " [[0.23776951 0.23642504 0.2527764  0.24506593 0.        ]\n",
      "  [0.24213853 0.23482287 0.25060353 0.24158818 1.        ]]\n",
      "\n",
      " [[0.24213853 0.23482287 0.25060353 0.24158818 1.        ]\n",
      "  [0.24719754 0.2432912  0.260985   0.2469207  1.        ]]]\n"
     ]
    }
   ],
   "source": [
    "print(trainX)"
   ]
  },
  {
   "cell_type": "code",
   "execution_count": 445,
   "metadata": {},
   "outputs": [
    {
     "name": "stdout",
     "output_type": "stream",
     "text": [
      "[[0.79816043 0.8033415  0.84331226 0.8205188  1.        ]\n",
      " [0.7753953  0.7747325  0.81603074 0.79501516 1.        ]\n",
      " [0.77953434 0.7674086  0.8008208  0.7715984  0.        ]\n",
      " ...\n",
      " [0.24213853 0.23482287 0.25060353 0.24158818 1.        ]\n",
      " [0.24719754 0.2432912  0.260985   0.2469207  1.        ]\n",
      " [0.2343202  0.23619616 0.25229356 0.24552965 0.        ]]\n"
     ]
    }
   ],
   "source": [
    "print(trainY)"
   ]
  },
  {
   "cell_type": "code",
   "execution_count": 446,
   "metadata": {},
   "outputs": [
    {
     "name": "stdout",
     "output_type": "stream",
     "text": [
      "[[[0.23294052 0.22932994 0.2486721  0.23347342 0.        ]\n",
      "  [0.23638979 0.23116094 0.25229356 0.2397334  1.        ]]\n",
      "\n",
      " [[0.23638979 0.23116094 0.25229356 0.2397334  1.        ]\n",
      "  [0.2425985  0.23734051 0.25591496 0.24506593 1.        ]]\n",
      "\n",
      " [[0.2425985  0.23734051 0.25591496 0.24506593 1.        ]\n",
      "  [0.2267318  0.23299193 0.2452921  0.24599338 0.        ]]\n",
      "\n",
      " ...\n",
      "\n",
      " [[0.8993964  0.9270469  0.9364135  0.9405883  1.        ]\n",
      "  [0.9403565  0.9456428  0.9492394  0.92392415 1.        ]]\n",
      "\n",
      " [[0.9403565  0.9456428  0.9492394  0.92392415 1.        ]\n",
      "  [0.9281404  0.97425187 0.96131086 0.96812063 0.        ]]\n",
      "\n",
      " [[0.9281404  0.97425187 0.96131086 0.96812063 0.        ]\n",
      "  [0.9561657  0.9828346  0.99601626 0.95435447 0.        ]]]\n"
     ]
    }
   ],
   "source": [
    "print(testX)"
   ]
  },
  {
   "cell_type": "code",
   "execution_count": 447,
   "metadata": {},
   "outputs": [
    {
     "name": "stdout",
     "output_type": "stream",
     "text": [
      "[[0.2425985  0.23734051 0.25591496 0.24506593 1.        ]\n",
      " [0.2267318  0.23299193 0.2452921  0.24599338 0.        ]\n",
      " [0.2393792  0.22864336 0.24649927 0.23324156 1.        ]\n",
      " ...\n",
      " [0.9281404  0.97425187 0.96131086 0.96812063 0.        ]\n",
      " [0.9561657  0.9828346  0.99601626 0.95435447 0.        ]\n",
      " [1.0000001  1.         0.9929985  1.         0.        ]]\n"
     ]
    }
   ],
   "source": [
    "print(testY)"
   ]
  },
  {
   "cell_type": "code",
   "execution_count": 448,
   "metadata": {},
   "outputs": [
    {
     "name": "stdout",
     "output_type": "stream",
     "text": [
      "_________________________________________________________________\n",
      "Layer (type)                 Output Shape              Param #   \n",
      "=================================================================\n",
      "lstm_13 (LSTM)               (None, 2, 100)            42400     \n",
      "_________________________________________________________________\n",
      "lstm_14 (LSTM)               (None, 256)               365568    \n",
      "_________________________________________________________________\n",
      "dropout_7 (Dropout)          (None, 256)               0         \n",
      "_________________________________________________________________\n",
      "dense_7 (Dense)              (None, 5)                 1285      \n",
      "=================================================================\n",
      "Total params: 409,253\n",
      "Trainable params: 409,253\n",
      "Non-trainable params: 0\n",
      "_________________________________________________________________\n"
     ]
    }
   ],
   "source": [
    "from keras.models import Sequential\n",
    "from keras.layers import Dense\n",
    "from keras.layers import LSTM\n",
    "from sklearn.preprocessing import MinMaxScaler\n",
    "from sklearn.metrics import mean_squared_error\n",
    "from keras.utils.vis_utils import plot_model\n",
    "# define model\n",
    "n_features = trainX.shape[2]\n",
    "model = Sequential()\n",
    "model.add(LSTM(100, activation='relu', return_sequences=True, input_shape=(look_back, n_features)))\n",
    "model.add(LSTM(256, activation='relu'))\n",
    "model.add(Dropout(0.2))\n",
    "#model.add(LSTM(100, activation='relu'))\n",
    "model.add(Dense(n_features))\n",
    "model.compile(optimizer='sgd', loss='mae')\n",
    "model.summary()\n",
    "plot_model(model, to_file='model_plot.png', show_shapes=True, show_layer_names=True)"
   ]
  },
  {
   "cell_type": "code",
   "execution_count": 449,
   "metadata": {},
   "outputs": [],
   "source": [
    "#tensorboard = TensorBoard(log_dir='./logs/run1/', write_graph=True, write_images=False)\n",
    "#tensorboard = TensorBoard(log_dir='/home/user/Python_docs_rks/LSTM_prediction/LSTM_SABU_SIR/SABU_SIR_26-04-2020/logs/run1/',write_graph=True, write_images=False)\n",
    "#early_stop = EarlyStopping(monitor='val_loss', min_delta=0, patience=100, verbose=1, mode=min)\n",
    "#model_file = \"/home/sabu/Desktop/weights/best_model.hdf5\"\n",
    "#model_file = \"/home/user/Python_docs_rks/LSTM_prediction/LSTM_SABU_SIR/weights/best_model.hdf5\"\n",
    "#checkpoint = ModelCheckpoint(model_file, monitor='val_loss', verbose=1, save_best_only=True, mode='min')"
   ]
  },
  {
   "cell_type": "code",
   "execution_count": 450,
   "metadata": {},
   "outputs": [
    {
     "name": "stdout",
     "output_type": "stream",
     "text": [
      "Train on 3318 samples, validate on 829 samples\n",
      "Epoch 1/100\n",
      " - 3s - loss: 0.3133 - val_loss: 0.2275\n",
      "Epoch 2/100\n",
      " - 2s - loss: 0.2154 - val_loss: 0.1952\n",
      "Epoch 3/100\n",
      " - 2s - loss: 0.2091 - val_loss: 0.1935\n",
      "Epoch 4/100\n",
      " - 2s - loss: 0.2087 - val_loss: 0.1932\n",
      "Epoch 5/100\n",
      " - 2s - loss: 0.2082 - val_loss: 0.1938\n",
      "Epoch 6/100\n",
      " - 2s - loss: 0.2078 - val_loss: 0.1937\n",
      "Epoch 7/100\n",
      " - 2s - loss: 0.2074 - val_loss: 0.1938\n",
      "Epoch 8/100\n",
      " - 2s - loss: 0.2068 - val_loss: 0.1940\n",
      "Epoch 9/100\n",
      " - 2s - loss: 0.2067 - val_loss: 0.1939\n",
      "Epoch 10/100\n",
      " - 2s - loss: 0.2062 - val_loss: 0.1937\n",
      "Epoch 11/100\n",
      " - 2s - loss: 0.2058 - val_loss: 0.1938\n",
      "Epoch 12/100\n",
      " - 2s - loss: 0.2053 - val_loss: 0.1940\n",
      "Epoch 13/100\n",
      " - 2s - loss: 0.2049 - val_loss: 0.1944\n",
      "Epoch 14/100\n",
      " - 2s - loss: 0.2046 - val_loss: 0.1941\n",
      "Epoch 15/100\n",
      " - 2s - loss: 0.2042 - val_loss: 0.1942\n",
      "Epoch 16/100\n",
      " - 2s - loss: 0.2038 - val_loss: 0.1947\n",
      "Epoch 17/100\n",
      " - 2s - loss: 0.2034 - val_loss: 0.1941\n",
      "Epoch 18/100\n",
      " - 2s - loss: 0.2030 - val_loss: 0.1949\n",
      "Epoch 19/100\n",
      " - 2s - loss: 0.2026 - val_loss: 0.1943\n",
      "Epoch 20/100\n",
      " - 2s - loss: 0.2022 - val_loss: 0.1946\n",
      "Epoch 21/100\n",
      " - 2s - loss: 0.2017 - val_loss: 0.1948\n",
      "Epoch 22/100\n",
      " - 2s - loss: 0.2012 - val_loss: 0.1943\n",
      "Epoch 23/100\n",
      " - 2s - loss: 0.2008 - val_loss: 0.1946\n",
      "Epoch 24/100\n",
      " - 2s - loss: 0.2002 - val_loss: 0.1950\n",
      "Epoch 25/100\n",
      " - 2s - loss: 0.1998 - val_loss: 0.1948\n",
      "Epoch 26/100\n",
      " - 2s - loss: 0.1992 - val_loss: 0.1946\n",
      "Epoch 27/100\n",
      " - 2s - loss: 0.1987 - val_loss: 0.1946\n",
      "Epoch 28/100\n",
      " - 2s - loss: 0.1984 - val_loss: 0.1945\n",
      "Epoch 29/100\n",
      " - 2s - loss: 0.1978 - val_loss: 0.1945\n",
      "Epoch 30/100\n",
      " - 2s - loss: 0.1972 - val_loss: 0.1943\n",
      "Epoch 31/100\n",
      " - 2s - loss: 0.1968 - val_loss: 0.1942\n",
      "Epoch 32/100\n",
      " - 2s - loss: 0.1962 - val_loss: 0.1944\n",
      "Epoch 33/100\n",
      " - 2s - loss: 0.1955 - val_loss: 0.1936\n",
      "Epoch 34/100\n",
      " - 2s - loss: 0.1949 - val_loss: 0.1947\n",
      "Epoch 35/100\n",
      " - 2s - loss: 0.1944 - val_loss: 0.1935\n",
      "Epoch 36/100\n",
      " - 2s - loss: 0.1937 - val_loss: 0.1940\n",
      "Epoch 37/100\n",
      " - 2s - loss: 0.1929 - val_loss: 0.1932\n",
      "Epoch 38/100\n",
      " - 2s - loss: 0.1923 - val_loss: 0.1932\n",
      "Epoch 39/100\n",
      " - 2s - loss: 0.1917 - val_loss: 0.1933\n",
      "Epoch 40/100\n",
      " - 2s - loss: 0.1910 - val_loss: 0.1927\n",
      "Epoch 41/100\n",
      " - 2s - loss: 0.1899 - val_loss: 0.1926\n",
      "Epoch 42/100\n",
      " - 2s - loss: 0.1893 - val_loss: 0.1920\n",
      "Epoch 43/100\n",
      " - 2s - loss: 0.1886 - val_loss: 0.1916\n",
      "Epoch 44/100\n",
      " - 2s - loss: 0.1879 - val_loss: 0.1913\n",
      "Epoch 45/100\n",
      " - 2s - loss: 0.1866 - val_loss: 0.1903\n",
      "Epoch 46/100\n",
      " - 2s - loss: 0.1857 - val_loss: 0.1905\n",
      "Epoch 47/100\n",
      " - 2s - loss: 0.1849 - val_loss: 0.1903\n",
      "Epoch 48/100\n",
      " - 2s - loss: 0.1836 - val_loss: 0.1888\n",
      "Epoch 49/100\n",
      " - 2s - loss: 0.1827 - val_loss: 0.1882\n",
      "Epoch 50/100\n",
      " - 2s - loss: 0.1816 - val_loss: 0.1878\n",
      "Epoch 51/100\n",
      " - 2s - loss: 0.1802 - val_loss: 0.1872\n",
      "Epoch 52/100\n",
      " - 2s - loss: 0.1790 - val_loss: 0.1865\n",
      "Epoch 53/100\n",
      " - 2s - loss: 0.1774 - val_loss: 0.1856\n",
      "Epoch 54/100\n",
      " - 2s - loss: 0.1760 - val_loss: 0.1838\n",
      "Epoch 55/100\n",
      " - 2s - loss: 0.1748 - val_loss: 0.1837\n",
      "Epoch 56/100\n",
      " - 2s - loss: 0.1730 - val_loss: 0.1820\n",
      "Epoch 57/100\n",
      " - 2s - loss: 0.1717 - val_loss: 0.1805\n",
      "Epoch 58/100\n",
      " - 2s - loss: 0.1700 - val_loss: 0.1785\n",
      "Epoch 59/100\n",
      " - 2s - loss: 0.1685 - val_loss: 0.1774\n",
      "Epoch 60/100\n",
      " - 2s - loss: 0.1666 - val_loss: 0.1755\n",
      "Epoch 61/100\n",
      " - 3s - loss: 0.1644 - val_loss: 0.1733\n",
      "Epoch 62/100\n",
      " - 3s - loss: 0.1627 - val_loss: 0.1712\n",
      "Epoch 63/100\n",
      " - 2s - loss: 0.1600 - val_loss: 0.1684\n",
      "Epoch 64/100\n",
      " - 2s - loss: 0.1573 - val_loss: 0.1660\n",
      "Epoch 65/100\n",
      " - 2s - loss: 0.1548 - val_loss: 0.1631\n",
      "Epoch 66/100\n",
      " - 2s - loss: 0.1519 - val_loss: 0.1599\n",
      "Epoch 67/100\n",
      " - 2s - loss: 0.1486 - val_loss: 0.1569\n",
      "Epoch 68/100\n",
      " - 2s - loss: 0.1452 - val_loss: 0.1534\n",
      "Epoch 69/100\n",
      " - 2s - loss: 0.1408 - val_loss: 0.1488\n",
      "Epoch 70/100\n",
      " - 2s - loss: 0.1373 - val_loss: 0.1446\n",
      "Epoch 71/100\n",
      " - 2s - loss: 0.1322 - val_loss: 0.1406\n",
      "Epoch 72/100\n",
      " - 2s - loss: 0.1284 - val_loss: 0.1357\n",
      "Epoch 73/100\n",
      " - 2s - loss: 0.1233 - val_loss: 0.1306\n",
      "Epoch 74/100\n",
      " - 2s - loss: 0.1190 - val_loss: 0.1270\n",
      "Epoch 75/100\n",
      " - 3s - loss: 0.1159 - val_loss: 0.1241\n",
      "Epoch 76/100\n",
      " - 3s - loss: 0.1138 - val_loss: 0.1228\n",
      "Epoch 77/100\n",
      " - 3s - loss: 0.1125 - val_loss: 0.1213\n",
      "Epoch 78/100\n",
      " - 3s - loss: 0.1122 - val_loss: 0.1207\n",
      "Epoch 79/100\n",
      " - 2s - loss: 0.1122 - val_loss: 0.1202\n",
      "Epoch 80/100\n",
      " - 2s - loss: 0.1115 - val_loss: 0.1201\n",
      "Epoch 81/100\n",
      " - 3s - loss: 0.1110 - val_loss: 0.1200\n",
      "Epoch 82/100\n",
      " - 2s - loss: 0.1108 - val_loss: 0.1200\n",
      "Epoch 83/100\n",
      " - 2s - loss: 0.1106 - val_loss: 0.1200\n",
      "Epoch 84/100\n",
      " - 2s - loss: 0.1103 - val_loss: 0.1201\n",
      "Epoch 85/100\n",
      " - 2s - loss: 0.1099 - val_loss: 0.1200\n",
      "Epoch 86/100\n",
      " - 2s - loss: 0.1098 - val_loss: 0.1201\n",
      "Epoch 87/100\n",
      " - 2s - loss: 0.1100 - val_loss: 0.1199\n",
      "Epoch 88/100\n",
      " - 2s - loss: 0.1097 - val_loss: 0.1199\n",
      "Epoch 89/100\n",
      " - 2s - loss: 0.1099 - val_loss: 0.1201\n",
      "Epoch 90/100\n",
      " - 2s - loss: 0.1094 - val_loss: 0.1203\n",
      "Epoch 91/100\n",
      " - 2s - loss: 0.1098 - val_loss: 0.1203\n",
      "Epoch 92/100\n",
      " - 2s - loss: 0.1088 - val_loss: 0.1201\n",
      "Epoch 93/100\n",
      " - 2s - loss: 0.1091 - val_loss: 0.1202\n",
      "Epoch 94/100\n",
      " - 2s - loss: 0.1094 - val_loss: 0.1203\n",
      "Epoch 95/100\n",
      " - 3s - loss: 0.1090 - val_loss: 0.1201\n",
      "Epoch 96/100\n",
      " - 2s - loss: 0.1088 - val_loss: 0.1202\n",
      "Epoch 97/100\n",
      " - 2s - loss: 0.1088 - val_loss: 0.1203\n",
      "Epoch 98/100\n",
      " - 2s - loss: 0.1088 - val_loss: 0.1202\n",
      "Epoch 99/100\n",
      " - 2s - loss: 0.1088 - val_loss: 0.1202\n",
      "Epoch 100/100\n",
      " - 2s - loss: 0.1089 - val_loss: 0.1203\n"
     ]
    }
   ],
   "source": [
    "history = model.fit(trainX, trainY, validation_data=(testX, testY), epochs=100, batch_size=32, verbose=2)#, callbacks=[tensorboard, early_stop, checkpoint])"
   ]
  },
  {
   "cell_type": "code",
   "execution_count": 451,
   "metadata": {},
   "outputs": [
    {
     "name": "stdout",
     "output_type": "stream",
     "text": [
      "dict_keys(['val_loss', 'loss'])\n"
     ]
    }
   ],
   "source": [
    "history_dict = history.history\n",
    "loss = history_dict['loss']\n",
    "#val_loss = history_dict['val_loss']\n",
    "print(history_dict.keys())"
   ]
  },
  {
   "cell_type": "code",
   "execution_count": 452,
   "metadata": {},
   "outputs": [
    {
     "name": "stderr",
     "output_type": "stream",
     "text": [
      "No handles with labels found to put in legend.\n"
     ]
    },
    {
     "data": {
      "image/png": "[encoded data removed]",
      "text/plain": [
       "<Figure size 432x288 with 1 Axes>"
      ]
     },
     "metadata": {
      "needs_background": "light"
     },
     "output_type": "display_data"
    }
   ],
   "source": [
    "import matplotlib\n",
    "#plt.plot(ae.history.history['val_loss'], 'r', ae.history.history['loss'], 'b')\n",
    "plt.plot(model.history.history['val_loss'], 'r',model.history.history['loss'], 'b')\n",
    "plt.xlabel('Epochs')\n",
    "plt.ylabel('Loss')\n",
    "plt.title('Training and validation loss')\n",
    "plt.legend()\n",
    "plt.show()"
   ]
  },
  {
   "cell_type": "code",
   "execution_count": 453,
   "metadata": {},
   "outputs": [
    {
     "name": "stdout",
     "output_type": "stream",
     "text": [
      "829/829 [==============================] - 0s 164us/step\n",
      "[[0.23567626 0.23076287 0.24985433 0.23888394 0.97744703]\n",
      " [0.23105347 0.22775304 0.24729413 0.2357969  0.9751705 ]\n",
      " [0.23539792 0.2310483  0.25016212 0.23915963 0.976937  ]\n",
      " ...\n",
      " [0.91315085 0.91530484 0.95781326 0.9284309  0.97914505]\n",
      " [0.9165696  0.9190263  0.96317625 0.9324347  0.97901374]\n",
      " [0.9258942  0.92882776 0.9750724  0.9421824  0.9786136 ]]\n"
     ]
    }
   ],
   "source": [
    "trainPredict = model.predict(trainX)\n",
    "yhat = model.predict(testX, verbose=1)\n",
    "print(yhat)"
   ]
  },
  {
   "cell_type": "code",
   "execution_count": 454,
   "metadata": {},
   "outputs": [],
   "source": [
    "# invert predictions\n",
    "trainPredict = scaler.inverse_transform(trainPredict)\n",
    "trainY = scaler.inverse_transform(trainY)\n",
    "testPredict = scaler.inverse_transform(yhat)\n",
    "testY = scaler.inverse_transform(testY)"
   ]
  },
  {
   "cell_type": "code",
   "execution_count": 455,
   "metadata": {},
   "outputs": [
    {
     "name": "stdout",
     "output_type": "stream",
     "text": [
      "[[50.830463   51.43019    50.462017   51.035778    0.97783977]\n",
      " [50.354885   50.943924   49.985535   50.551025    0.97771966]\n",
      " [49.50847    50.07824    49.135433   49.68694     0.9775139 ]\n",
      " ...\n",
      " [26.005764   26.201626   25.714214   25.955769    0.978749  ]\n",
      " [25.65875    25.910421   25.426266   25.666277    0.9776447 ]\n",
      " [25.383896   25.704132   25.24525    25.455906    0.9752733 ]]\n"
     ]
    }
   ],
   "source": [
    "print(trainPredict)"
   ]
  },
  {
   "cell_type": "code",
   "execution_count": 456,
   "metadata": {},
   "outputs": [
    {
     "name": "stdout",
     "output_type": "stream",
     "text": [
      "(3318, 5)\n"
     ]
    }
   ],
   "source": [
    "print(trainPredict.shape)"
   ]
  },
  {
   "cell_type": "code",
   "execution_count": 457,
   "metadata": {},
   "outputs": [
    {
     "name": "stdout",
     "output_type": "stream",
     "text": [
      "[[49.91     50.72     49.8      50.54      1.      ]\n",
      " [48.92     49.469997 48.67     49.439995  1.      ]\n",
      " [49.099995 49.15     48.04     48.430004  0.      ]\n",
      " ...\n",
      " [25.729998 25.88     25.25     25.57      1.      ]\n",
      " [25.950003 26.25     25.679998 25.799997  1.      ]\n",
      " [25.389997 25.94     25.32     25.74      0.      ]]\n"
     ]
    }
   ],
   "source": [
    "print(trainY)"
   ]
  },
  {
   "cell_type": "code",
   "execution_count": 458,
   "metadata": {},
   "outputs": [
    {
     "name": "stdout",
     "output_type": "stream",
     "text": [
      "(3318, 5)\n"
     ]
    }
   ],
   "source": [
    "print(trainY.shape)"
   ]
  },
  {
   "cell_type": "code",
   "execution_count": 459,
   "metadata": {},
   "outputs": [
    {
     "name": "stdout",
     "output_type": "stream",
     "text": [
      "[[25.44897    25.702606   25.21897    25.453362    0.97744703]\n",
      " [25.247936   25.5711     25.112923   25.320213    0.9751705 ]\n",
      " [25.436865   25.715076   25.231718   25.465254    0.976937  ]\n",
      " ...\n",
      " [54.91065    55.61196    54.54263    55.19438     0.97914505]\n",
      " [55.059315   55.77456    54.764763   55.36707     0.97901374]\n",
      " [55.464825   56.20281    55.257504   55.787502    0.9786136 ]]\n"
     ]
    }
   ],
   "source": [
    "print(testPredict)"
   ]
  },
  {
   "cell_type": "code",
   "execution_count": 460,
   "metadata": {},
   "outputs": [
    {
     "name": "stdout",
     "output_type": "stream",
     "text": [
      "(829, 5)\n"
     ]
    }
   ],
   "source": [
    "print(testPredict.shape)"
   ]
  },
  {
   "cell_type": "code",
   "execution_count": 461,
   "metadata": {},
   "outputs": [
    {
     "name": "stdout",
     "output_type": "stream",
     "text": [
      "[[25.750002 25.99     25.47     25.72      1.      ]\n",
      " [25.059998 25.8      25.03     25.760002  0.      ]\n",
      " [25.610003 25.61     25.08     25.21      1.      ]\n",
      " ...\n",
      " [55.562504 58.1875   54.6875   56.90625   0.      ]\n",
      " [56.78125  58.5625   56.124996 56.3125    0.      ]\n",
      " [58.6875   59.3125   56.       58.28125   0.      ]]\n"
     ]
    }
   ],
   "source": [
    "print(testY)"
   ]
  },
  {
   "cell_type": "code",
   "execution_count": 462,
   "metadata": {},
   "outputs": [
    {
     "name": "stdout",
     "output_type": "stream",
     "text": [
      "(829, 5)\n"
     ]
    }
   ],
   "source": [
    "print(testY.shape)"
   ]
  },
  {
   "cell_type": "code",
   "execution_count": 463,
   "metadata": {},
   "outputs": [
    {
     "name": "stdout",
     "output_type": "stream",
     "text": [
      "[[51.13     51.72     51.07     51.16      1.      ]\n",
      " [50.72     51.3      50.5      51.170002  1.      ]\n",
      " [49.91     50.72     49.8      50.54      1.      ]\n",
      " ...\n",
      " [25.729998 25.88     25.25     25.57      1.      ]\n",
      " [25.950003 26.25     25.679998 25.799997  1.      ]\n",
      " [25.389997 25.94     25.32     25.74      0.      ]]\n"
     ]
    }
   ],
   "source": [
    "original = (scaler.inverse_transform(train))\n",
    "#print(scaler.inverse_transform(train))\n",
    "print(original)"
   ]
  },
  {
   "cell_type": "code",
   "execution_count": 464,
   "metadata": {},
   "outputs": [
    {
     "name": "stdout",
     "output_type": "stream",
     "text": [
      "[[51.13    ]\n",
      " [50.72    ]\n",
      " [49.91    ]\n",
      " ...\n",
      " [25.729998]\n",
      " [25.950003]\n",
      " [25.389997]]\n",
      "(3320, 5)\n"
     ]
    }
   ],
   "source": [
    "Opentrain = original\n",
    "print(Opentrain[:,:1])\n",
    "print(Opentrain.shape)\n"
   ]
  },
  {
   "cell_type": "code",
   "execution_count": 465,
   "metadata": {},
   "outputs": [
    {
     "name": "stdout",
     "output_type": "stream",
     "text": [
      "[[51.72]\n",
      " [51.3 ]\n",
      " [50.72]\n",
      " ...\n",
      " [25.88]\n",
      " [26.25]\n",
      " [25.94]]\n"
     ]
    }
   ],
   "source": [
    "Hightrain = original\n",
    "print(Hightrain[:,1:2])"
   ]
  },
  {
   "cell_type": "code",
   "execution_count": 466,
   "metadata": {},
   "outputs": [
    {
     "name": "stdout",
     "output_type": "stream",
     "text": [
      "[[51.07    ]\n",
      " [50.5     ]\n",
      " [49.8     ]\n",
      " ...\n",
      " [25.25    ]\n",
      " [25.679998]\n",
      " [25.32    ]]\n"
     ]
    }
   ],
   "source": [
    "Lowtrain = original\n",
    "print(Lowtrain[:,2:3])"
   ]
  },
  {
   "cell_type": "code",
   "execution_count": 467,
   "metadata": {},
   "outputs": [
    {
     "name": "stdout",
     "output_type": "stream",
     "text": [
      "[[51.16    ]\n",
      " [51.170002]\n",
      " [50.54    ]\n",
      " ...\n",
      " [25.57    ]\n",
      " [25.799997]\n",
      " [25.74    ]]\n"
     ]
    }
   ],
   "source": [
    "Closetrain = original\n",
    "print(Closetrain[:,3:4])"
   ]
  },
  {
   "cell_type": "code",
   "execution_count": 468,
   "metadata": {},
   "outputs": [
    {
     "name": "stdout",
     "output_type": "stream",
     "text": [
      "[[25.33     25.64     25.17     25.22      0.      ]\n",
      " [25.48     25.72     25.32     25.49      1.      ]\n",
      " [25.750002 25.99     25.47     25.72      1.      ]\n",
      " ...\n",
      " [55.562504 58.1875   54.6875   56.90625   0.      ]\n",
      " [56.78125  58.5625   56.124996 56.3125    0.      ]\n",
      " [58.6875   59.3125   56.       58.28125   0.      ]]\n",
      "[[25.33     25.64     25.17     25.22      0.      ]\n",
      " [25.48     25.72     25.32     25.49      1.      ]\n",
      " [25.750002 25.99     25.47     25.72      1.      ]\n",
      " ...\n",
      " [55.562504 58.1875   54.6875   56.90625   0.      ]\n",
      " [56.78125  58.5625   56.124996 56.3125    0.      ]\n",
      " [58.6875   59.3125   56.       58.28125   0.      ]]\n",
      "(831, 5)\n"
     ]
    }
   ],
   "source": [
    "original_test = (scaler.inverse_transform(test))\n",
    "print(scaler.inverse_transform(test))\n",
    "print(original_test)\n",
    "print(original_test.shape)"
   ]
  },
  {
   "cell_type": "code",
   "execution_count": 469,
   "metadata": {},
   "outputs": [
    {
     "name": "stdout",
     "output_type": "stream",
     "text": [
      "(831, 5)\n"
     ]
    }
   ],
   "source": [
    "Opentest = original_test\n",
    "#print(Opentest[:,:1])\n",
    "print(Opentest.shape)"
   ]
  },
  {
   "cell_type": "code",
   "execution_count": 470,
   "metadata": {},
   "outputs": [],
   "source": [
    "Hightest = original_test\n",
    "#print(Hightest[:,1:2])"
   ]
  },
  {
   "cell_type": "code",
   "execution_count": 471,
   "metadata": {},
   "outputs": [],
   "source": [
    "Lowtest = original_test\n",
    "#print(Lowtest[:,2:3])"
   ]
  },
  {
   "cell_type": "code",
   "execution_count": 472,
   "metadata": {},
   "outputs": [],
   "source": [
    "Closetest = original_test\n",
    "#print(Closetest[:,3:4])"
   ]
  },
  {
   "cell_type": "code",
   "execution_count": 473,
   "metadata": {},
   "outputs": [
    {
     "name": "stdout",
     "output_type": "stream",
     "text": [
      "[[50.830463   51.43019    50.462017   51.035778    0.97783977]\n",
      " [50.354885   50.943924   49.985535   50.551025    0.97771966]\n",
      " [49.50847    50.07824    49.135433   49.68694     0.9775139 ]\n",
      " ...\n",
      " [26.005764   26.201626   25.714214   25.955769    0.978749  ]\n",
      " [25.65875    25.910421   25.426266   25.666277    0.9776447 ]\n",
      " [25.383896   25.704132   25.24525    25.455906    0.9752733 ]]\n"
     ]
    }
   ],
   "source": [
    "print(trainPredict)"
   ]
  },
  {
   "cell_type": "code",
   "execution_count": 474,
   "metadata": {},
   "outputs": [
    {
     "name": "stdout",
     "output_type": "stream",
     "text": [
      "[[50.830463]\n",
      " [50.354885]\n",
      " [49.50847 ]\n",
      " ...\n",
      " [26.005764]\n",
      " [25.65875 ]\n",
      " [25.383896]]\n"
     ]
    }
   ],
   "source": [
    "OpentrainPredict = trainPredict\n",
    "print(OpentrainPredict[:,:1])"
   ]
  },
  {
   "cell_type": "code",
   "execution_count": 475,
   "metadata": {},
   "outputs": [
    {
     "name": "stdout",
     "output_type": "stream",
     "text": [
      "[[51.43019 ]\n",
      " [50.943924]\n",
      " [50.07824 ]\n",
      " ...\n",
      " [26.201626]\n",
      " [25.910421]\n",
      " [25.704132]]\n"
     ]
    }
   ],
   "source": [
    "HightrainPredict = trainPredict\n",
    "print(HightrainPredict[:,1:2])"
   ]
  },
  {
   "cell_type": "code",
   "execution_count": 476,
   "metadata": {},
   "outputs": [
    {
     "name": "stdout",
     "output_type": "stream",
     "text": [
      "[[50.462017]\n",
      " [49.985535]\n",
      " [49.135433]\n",
      " ...\n",
      " [25.714214]\n",
      " [25.426266]\n",
      " [25.24525 ]]\n"
     ]
    }
   ],
   "source": [
    "LowtrainPredict = trainPredict\n",
    "print(LowtrainPredict[:,2:3])"
   ]
  },
  {
   "cell_type": "code",
   "execution_count": 477,
   "metadata": {},
   "outputs": [
    {
     "name": "stdout",
     "output_type": "stream",
     "text": [
      "[[51.035778]\n",
      " [50.551025]\n",
      " [49.68694 ]\n",
      " ...\n",
      " [25.955769]\n",
      " [25.666277]\n",
      " [25.455906]]\n"
     ]
    }
   ],
   "source": [
    "ClosetrainPredict = trainPredict\n",
    "print(ClosetrainPredict[:,3:4])"
   ]
  },
  {
   "cell_type": "code",
   "execution_count": 478,
   "metadata": {},
   "outputs": [],
   "source": [
    "OpentestPredict = testPredict\n",
    "#print(OpentestPredict[:,:1])"
   ]
  },
  {
   "cell_type": "code",
   "execution_count": 479,
   "metadata": {},
   "outputs": [],
   "source": [
    "HightestPredict = testPredict\n",
    "#print(HightestPredict[:,1:2])"
   ]
  },
  {
   "cell_type": "code",
   "execution_count": 480,
   "metadata": {},
   "outputs": [],
   "source": [
    "LowtestPredict = testPredict\n",
    "#print(LowtestPredict[:,2:3])"
   ]
  },
  {
   "cell_type": "code",
   "execution_count": 481,
   "metadata": {},
   "outputs": [],
   "source": [
    "ClosetestPredict = testPredict\n",
    "#print(ClosetestPredict[:,3:4])"
   ]
  },
  {
   "cell_type": "code",
   "execution_count": 482,
   "metadata": {},
   "outputs": [
    {
     "data": {
      "image/png": "[encoded data removed]",
      "text/plain": [
       "<Figure size 432x288 with 1 Axes>"
      ]
     },
     "metadata": {
      "needs_background": "light"
     },
     "output_type": "display_data"
    }
   ],
   "source": [
    "# # shift opentrain predictions for plotting\n",
    "OpentrainPlot = np.empty_like(Opentrain[:,:1])\n",
    "OpentrainPlot = Opentrain[:,:1]\n",
    "# shift OpentrainPredict predictions for plotting\n",
    "OpentrainPredictPlot = np.empty_like(OpentrainPredict[:,:1])\n",
    "OpentrainPredictPlot = OpentrainPredict[:,:1]\n",
    "# # plot baseline and predictions\n",
    "plt.plot(OpentrainPlot, '', label='Original open train price' )\n",
    "plt.plot(OpentrainPredictPlot, '', label='Predicted open train price' )\n",
    "plt.ylabel('Opening price')\n",
    "plt.xlabel(\"Trading days\")\n",
    "plt.legend(loc='upper left')\n",
    "plt.title('Stock Price Prediction-DAE-LSTM Model')\n",
    "plt.show()"
   ]
  },
  {
   "cell_type": "code",
   "execution_count": 483,
   "metadata": {},
   "outputs": [
    {
     "data": {
      "image/png": "[encoded data removed]",
      "text/plain": [
       "<Figure size 432x288 with 1 Axes>"
      ]
     },
     "metadata": {
      "needs_background": "light"
     },
     "output_type": "display_data"
    }
   ],
   "source": [
    "# # shift Hightrain predictions for plotting\n",
    "HightrainPlot = np.empty_like(Hightrain[:,1:2])\n",
    "HightrainPlot = Hightrain[:,1:2]\n",
    "# shift HightrainPredict predictions for plotting\n",
    "HightrainPredictPlot = np.empty_like(HightrainPredict[:,1:2])\n",
    "HightrainPredictPlot = HightrainPredict[:,1:2]\n",
    "# # plot baseline and predictions\n",
    "plt.plot(HightrainPlot, '', label='Original high train price' )\n",
    "plt.plot(HightrainPredictPlot, 'r', label='Predicted high train price' )\n",
    "plt.ylabel('High price')\n",
    "plt.xlabel(\"Trading days\")\n",
    "plt.legend(loc='upper left')\n",
    "plt.title('Stock Price Prediction-DAE-LSTM Model')\n",
    "plt.show()"
   ]
  },
  {
   "cell_type": "code",
   "execution_count": 484,
   "metadata": {},
   "outputs": [
    {
     "data": {
      "image/png": "[encoded data removed]",
      "text/plain": [
       "<Figure size 432x288 with 1 Axes>"
      ]
     },
     "metadata": {
      "needs_background": "light"
     },
     "output_type": "display_data"
    }
   ],
   "source": [
    "# # shift Lowtrain predictions for plotting\n",
    "LowtrainPlot = np.empty_like(Lowtrain[:,2:3])\n",
    "LowtrainPlot = Lowtrain[:,2:3]\n",
    "# shift LowtrainPredict predictions for plotting\n",
    "LowtrainPredictPlot = np.empty_like(LowtrainPredict[:,2:3])\n",
    "LowtrainPredictPlot = LowtrainPredict[:,2:3]\n",
    "# # plot baseline and predictions\n",
    "plt.plot(LowtrainPlot, '', label='Original Low train price' )\n",
    "plt.plot(LowtrainPredictPlot, 'y', label='Predicted Low train price' )\n",
    "plt.ylabel('Low price')\n",
    "plt.xlabel(\"Trading days\")\n",
    "plt.legend(loc='upper left')\n",
    "plt.title('Stock Price Prediction-DAE-LSTM Model')\n",
    "plt.show()"
   ]
  },
  {
   "cell_type": "code",
   "execution_count": 485,
   "metadata": {},
   "outputs": [
    {
     "data": {
      "image/png": "[encoded data removed]",
      "text/plain": [
       "<Figure size 432x288 with 1 Axes>"
      ]
     },
     "metadata": {
      "needs_background": "light"
     },
     "output_type": "display_data"
    }
   ],
   "source": [
    "# # shift Closetrain predictions for plotting\n",
    "ClosetrainPlot = np.empty_like(Closetrain[:,3:4])\n",
    "ClosetrainPlot = Hightrain[:,3:4]\n",
    "# shift ClosetrainPredict predictions for plotting\n",
    "ClosetrainPredictPlot = np.empty_like(ClosetrainPredict[:,3:4])\n",
    "ClosetrainPredictPlot = ClosetrainPredict[:,3:4]\n",
    "# # plot baseline and predictions\n",
    "plt.plot(ClosetrainPlot, '', label='Original Close train price' )\n",
    "plt.plot(ClosetrainPredictPlot, '', label='Predicted Close train price' )\n",
    "plt.ylabel('Close price')\n",
    "plt.xlabel(\"Trading days\")\n",
    "plt.legend(loc='upper left')\n",
    "plt.title('Stock Price Prediction-DAE-LSTM Model')\n",
    "plt.show()"
   ]
  },
  {
   "cell_type": "code",
   "execution_count": 486,
   "metadata": {},
   "outputs": [
    {
     "data": {
      "image/png": "[encoded data removed]",
      "text/plain": [
       "<Figure size 432x288 with 1 Axes>"
      ]
     },
     "metadata": {
      "needs_background": "light"
     },
     "output_type": "display_data"
    }
   ],
   "source": [
    "\n",
    "# shift OpentestPredict predictions for plotting\n",
    "OpentestPlot = np.empty_like(Opentrain[:,:1])\n",
    "OpentestPlot = Opentest[:,:1]\n",
    "# shift OpentestPredict predictions for plotting\n",
    "OpentestPredictPlot = np.empty_like(OpentestPredict[:,:1])\n",
    "OpentestPredictPlot = OpentestPredict[:,:1]\n",
    "# # plot baseline and predictions\n",
    "plt.plot(OpentestPlot, 'r', label='Original Close price' )\n",
    "plt.plot(OpentestPredictPlot, 'b', label='Predicted Close price' )\n",
    "plt.ylabel('Closing price')\n",
    "plt.xlabel(\"Trading days\")\n",
    "plt.legend(loc='upper left')\n",
    "plt.title('Stock Price Prediction-DAE-LSTM Model')\n",
    "plt.show()"
   ]
  },
  {
   "cell_type": "code",
   "execution_count": 487,
   "metadata": {},
   "outputs": [
    {
     "data": {
      "image/png": "[encoded data removed]",
      "text/plain": [
       "<Figure size 432x288 with 1 Axes>"
      ]
     },
     "metadata": {
      "needs_background": "light"
     },
     "output_type": "display_data"
    }
   ],
   "source": [
    "# shift Hightest predictions for plotting\n",
    "HightestPlot = np.empty_like(Hightest[:,1:2])\n",
    "HightestPlot = Hightest[:,1:2]\n",
    "# shift HightestPredict predictions for plotting\n",
    "HightestPredictPlot = np.empty_like(HightestPredict[:,1:2])\n",
    "HightestPredictPlot = HightestPredict[:,1:2]\n",
    "# # plot baseline and predictions\n",
    "plt.plot(HightestPlot, 'y', label='Original test High price' )\n",
    "plt.plot(HightestPredictPlot, '', label='Predicted test High price' )\n",
    "plt.ylabel('High price')\n",
    "plt.xlabel(\"Trading days\")\n",
    "plt.legend(loc='upper left')\n",
    "plt.title('Stock Price Prediction-DAE-LSTM Model')\n",
    "plt.show()"
   ]
  },
  {
   "cell_type": "code",
   "execution_count": 488,
   "metadata": {},
   "outputs": [
    {
     "data": {
      "image/png": "[encoded data removed]",
      "text/plain": [
       "<Figure size 432x288 with 1 Axes>"
      ]
     },
     "metadata": {
      "needs_background": "light"
     },
     "output_type": "display_data"
    }
   ],
   "source": [
    "# shift Lowtest predictions for plotting\n",
    "LowtestPlot = np.empty_like(Lowtest[:,2:3])\n",
    "LowtestPlot = Lowtest[:,2:3]\n",
    "# shift LowtrainPredict predictions for plotting\n",
    "LowtestPredictPlot = np.empty_like(LowtestPredict[:,2:3])\n",
    "LowtestPredictPlot = LowtestPredict[:,2:3]\n",
    "# # plot baseline and predictions\n",
    "plt.plot(LowtestPlot, 'r', label='Original test Low price' )\n",
    "plt.plot(LowtestPredictPlot, '', label='Predicted test Low price' )\n",
    "plt.ylabel('Low price')\n",
    "plt.xlabel(\"Trading days\")\n",
    "plt.legend(loc='upper left')\n",
    "plt.title('Stock Price Prediction-DAE-LSTM Model')\n",
    "plt.show()"
   ]
  },
  {
   "cell_type": "code",
   "execution_count": 489,
   "metadata": {},
   "outputs": [
    {
     "data": {
      "image/png": "[encoded data removed]",
      "text/plain": [
       "<Figure size 432x288 with 1 Axes>"
      ]
     },
     "metadata": {
      "needs_background": "light"
     },
     "output_type": "display_data"
    }
   ],
   "source": [
    "# shift Closetest predictions for plotting\n",
    "ClosetestPlot = np.empty_like(Closetest[:,3:4])\n",
    "ClosetestPlot = Closetest[:,3:4]\n",
    "# shift ClosetrainPredict predictions for plotting\n",
    "ClosetestPredictPlot = np.empty_like(ClosetestPredict[:,3:4])\n",
    "ClosetestPredictPlot = ClosetestPredict[:,3:4]\n",
    "# # plot baseline and predictions\n",
    "plt.plot(ClosetestPlot, 'r', label='Original test Close price' )\n",
    "plt.plot(ClosetestPredictPlot, 'b', label='Predicted test Close price' )\n",
    "plt.ylabel('Close price')\n",
    "plt.xlabel(\"Trading days\")\n",
    "plt.legend(loc='upper left')\n",
    "plt.title('Stock Price Prediction-DAE-LSTMSA Model')\n",
    "plt.show()"
   ]
  },
  {
   "cell_type": "code",
   "execution_count": 490,
   "metadata": {},
   "outputs": [],
   "source": [
    "# # calculate root mean squared error\n",
    "# trainScore = math.sqrt(mean_squared_error(trainY, trainPredict))\n",
    "# print('Train Score: %.2f RMSE' % (trainScore))\n",
    "# testScore = math.sqrt(mean_squared_error(testY, testPredict))\n",
    "# print('Test Score: %.2f RMSE' % (testScore))"
   ]
  },
  {
   "cell_type": "code",
   "execution_count": 491,
   "metadata": {},
   "outputs": [
    {
     "name": "stdout",
     "output_type": "stream",
     "text": [
      "Train Score: 0.76 RMSE\n",
      "Test Score: 1.08 RMSE\n"
     ]
    }
   ],
   "source": [
    "# calculate root mean squared error\n",
    "trainScore = math.sqrt(mean_squared_error(trainY[:,:-1], trainPredict[:,:-1]))\n",
    "print('Train Score: %.2f RMSE' % (trainScore))\n",
    "testScore = math.sqrt(mean_squared_error(testY[:,:-1], testPredict[:,:-1]))\n",
    "print('Test Score: %.2f RMSE' % (testScore))"
   ]
  },
  {
   "cell_type": "code",
   "execution_count": 492,
   "metadata": {},
   "outputs": [],
   "source": [
    "# shift train predictions for plotting\n",
    "trainPredictPlot = np.empty_like(dataset)\n",
    "trainPredictPlot[:, :] = np.nan\n",
    "trainPredictPlot[look_back:len(trainPredict)+look_back, :] = trainPredict"
   ]
  },
  {
   "cell_type": "code",
   "execution_count": 493,
   "metadata": {},
   "outputs": [],
   "source": [
    "# shift test predictions for plotting\n",
    "testPredictPlot = np.empty_like(dataset)\n",
    "testPredictPlot[:, :] = np.nan\n",
    "testPredictPlot[len(trainPredict)+(look_back*2):len(dataset), :] = testPredict"
   ]
  },
  {
   "cell_type": "code",
   "execution_count": 494,
   "metadata": {},
   "outputs": [
    {
     "data": {
      "image/png": "[encoded data removed]",
      "text/plain": [
       "<Figure size 432x288 with 1 Axes>"
      ]
     },
     "metadata": {
      "needs_background": "light"
     },
     "output_type": "display_data"
    }
   ],
   "source": [
    "# plot baseline and predictions\n",
    "plt.plot(scaler.inverse_transform(dataset))\n",
    "plt.plot(trainPredictPlot)\n",
    "plt.plot(testPredictPlot)\n",
    "plt.show()"
   ]
  },
  {
   "cell_type": "code",
   "execution_count": 495,
   "metadata": {},
   "outputs": [
    {
     "name": "stdout",
     "output_type": "stream",
     "text": [
      "[55.464825  56.20281   55.257504  55.787502   0.9786136]\n",
      "[1. 1. 1. 1. 1.]\n"
     ]
    }
   ],
   "source": [
    "# PREDICT FUTURE VALUES\n",
    "last_val = testPredict[-1,:]\n",
    "print(last_val)\n",
    "last_val_scaled = last_val/last_val\n",
    "print(last_val_scaled)\n"
   ]
  },
  {
   "cell_type": "code",
   "execution_count": 496,
   "metadata": {},
   "outputs": [
    {
     "name": "stdout",
     "output_type": "stream",
     "text": [
      "(1, 2, 5)\n",
      "[[0.9179517  0.9202195  0.96290815 0.9334767  0.9791126 ]]\n"
     ]
    }
   ],
   "source": [
    "yy = yhat[-2:,:]\n",
    "yy=yy.reshape((-1,2,5))\n",
    "print(np.shape(yy))\n",
    "#print(yy)\n",
    "nexty = model.predict(yy)\n",
    "print(nexty)"
   ]
  },
  {
   "cell_type": "code",
   "execution_count": 497,
   "metadata": {},
   "outputs": [
    {
     "name": "stdout",
     "output_type": "stream",
     "text": [
      "[[55.119423  55.826687  54.75366   55.412018   0.9791126]]\n"
     ]
    }
   ],
   "source": [
    "actualnexty = scaler.inverse_transform(nexty)\n",
    "print(actualnexty)"
   ]
  },
  {
   "cell_type": "code",
   "execution_count": 498,
   "metadata": {},
   "outputs": [
    {
     "name": "stdout",
     "output_type": "stream",
     "text": [
      "[55.119422912597656, 55.82668685913086, 54.753658294677734, 55.412017822265625, 0.9791126251220703]\n",
      "[55.214149475097656, 55.92555618286133, 54.85236740112305, 55.50969696044922, 0.9790993332862854]\n",
      "[55.01504898071289, 55.7203483581543, 54.650882720947266, 55.30589294433594, 0.9790719151496887]\n",
      "[54.9892692565918, 55.6945686340332, 54.62652587890625, 55.27986526489258, 0.9790488481521606]\n"
     ]
    }
   ],
   "source": [
    "period = 4\n",
    "yresult = []\n",
    "yy = yhat[-2:,:]\n",
    "#yy=yy.reshape((-1,2,4))\n",
    "for i in range(period):\n",
    "    yy=yy.reshape((-1,2,5))\n",
    "    nexty = model.predict(yy)\n",
    "    #print(nexty)\n",
    "    actualnexty = scaler.inverse_transform(nexty)\n",
    "    #print(actualnexty)\n",
    "    yresult.append(actualnexty[0].tolist())\n",
    "    yy = yy[0]\n",
    "    #print(yy)\n",
    "    yy=np.delete(yy,0,axis=0)\n",
    "    #print(ary)\n",
    "    yy=np.insert(yy,1,nexty[0],axis=0)\n",
    "    #print(yy)\n",
    "for y in yresult:\n",
    "    print(y)"
   ]
  },
  {
   "cell_type": "code",
   "execution_count": 499,
   "metadata": {},
   "outputs": [
    {
     "name": "stdout",
     "output_type": "stream",
     "text": [
      "0.46543288\n",
      "0.7401749\n"
     ]
    }
   ],
   "source": [
    "from sklearn.metrics import mean_absolute_error\n",
    "Train_MAE = mean_absolute_error(trainY[:,:-1], trainPredict[:,:-1])\n",
    "print(Train_MAE)\n",
    "Test_MAE = mean_absolute_error(testY[:,:-1], testPredict[:,:-1])\n",
    "print(Test_MAE)"
   ]
  },
  {
   "cell_type": "code",
   "execution_count": 500,
   "metadata": {},
   "outputs": [],
   "source": [
    "#from sklearn.metrics import accuracy_score\n",
    "#print(testY[:,4:])\n",
    "#print(accuracy_score(testY[:,:5], testPredict[:,:5]))"
   ]
  },
  {
   "cell_type": "code",
   "execution_count": 501,
   "metadata": {},
   "outputs": [],
   "source": [
    "#print(testPredict[:,4:])"
   ]
  },
  {
   "cell_type": "code",
   "execution_count": 502,
   "metadata": {},
   "outputs": [
    {
     "name": "stdout",
     "output_type": "stream",
     "text": [
      "0.9916787743946225\n",
      "0.9771553684375387\n"
     ]
    }
   ],
   "source": [
    "from sklearn.metrics import r2_score\n",
    "Train_R2 = r2_score(trainY[:,:-1], trainPredict[:,:-1])\n",
    "print(Train_R2)\n",
    "Test_R2 = r2_score(testY[:,:-1], testPredict[:,:-1])\n",
    "print(Test_R2)"
   ]
  },
  {
   "cell_type": "code",
   "execution_count": 503,
   "metadata": {},
   "outputs": [],
   "source": [
    "#print(trainY[:,3:-1])"
   ]
  },
  {
   "cell_type": "code",
   "execution_count": 504,
   "metadata": {},
   "outputs": [],
   "source": [
    "#from sklearn.metrics import accuracy_score\n",
    "#print(accuracy_score(testY[:,4:], testPredict[:,4:]))"
   ]
  },
  {
   "cell_type": "code",
   "execution_count": 505,
   "metadata": {},
   "outputs": [
    {
     "name": "stdout",
     "output_type": "stream",
     "text": [
      "1.6862854361534119\n"
     ]
    }
   ],
   "source": [
    "import numpy as np\n",
    "\n",
    "def mean_absolute_percentage_error_train(trainY, trainPredict): \n",
    "    trainY, trainPredict = np.array(trainY[:,:-1]), np.array(trainPredict[:,:-1])\n",
    "    return np.mean(np.abs((trainY[:,:-1] - trainPredict[:,:-1]) / trainY[:,:-1])) * 100\n",
    "print(mean_absolute_percentage_error_train(trainY[:,:-1], trainPredict[:,:-1]))"
   ]
  },
  {
   "cell_type": "code",
   "execution_count": 506,
   "metadata": {},
   "outputs": [
    {
     "name": "stdout",
     "output_type": "stream",
     "text": [
      "2.4794703349471092\n"
     ]
    }
   ],
   "source": [
    "import numpy as np\n",
    "\n",
    "def mean_absolute_percentage_error_test(testY, testPredict): \n",
    "    testY, testPredict = np.array(testY[:,:-1]), np.array(testPredict[:,:-1])\n",
    "    return np.mean(np.abs((testY[:,:-1] - testPredict[:,:-1]) / testY[:,:-1])) * 100\n",
    "print(mean_absolute_percentage_error_test(testY[:,:-1], testPredict[:,:-1]))"
   ]
  },
  {
   "cell_type": "code",
   "execution_count": null,
   "metadata": {},
   "outputs": [],
   "source": []
  },
  {
   "cell_type": "code",
   "execution_count": null,
   "metadata": {},
   "outputs": [],
   "source": []
  }
 ],
 "metadata": {
  "kernelspec": {
   "display_name": "Python 3",
   "language": "python",
   "name": "python3"
  },
  "language_info": {
   "codemirror_mode": {
    "name": "ipython",
    "version": 3
   },
   "file_extension": ".py",
   "mimetype": "text/x-python",
   "name": "python",
   "nbconvert_exporter": "python",
   "pygments_lexer": "ipython3",
   "version": "3.6.8"
  }
 },
 "nbformat": 4,
 "nbformat_minor": 2
}
