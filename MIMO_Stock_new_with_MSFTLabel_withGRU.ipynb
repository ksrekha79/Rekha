{
 "cells": [
  {
   "cell_type": "code",
   "execution_count": 136,
   "metadata": {},
   "outputs": [],
   "source": [
    "# multivariate output data prep\n",
    "import pandas as pd\n",
    "import matplotlib.pyplot as plt\n",
    "import numpy as np \n",
    "import math\n",
    "from sklearn.preprocessing import MinMaxScaler\n",
    "from sklearn.metrics import mean_squared_error\n",
    "from keras.models import Sequential\n",
    "from keras.layers import Dense, Activation, Dropout\n",
    "from keras.layers import LSTM, GRU\n",
    "from keras.callbacks import TensorBoard, EarlyStopping, ModelCheckpoint\n",
    "#import preprocessing"
   ]
  },
  {
   "cell_type": "code",
   "execution_count": 137,
   "metadata": {},
   "outputs": [],
   "source": [
    "np.random.seed(7)"
   ]
  },
  {
   "cell_type": "code",
   "execution_count": 138,
   "metadata": {},
   "outputs": [
    {
     "name": "stdout",
     "output_type": "stream",
     "text": [
      "           Open       High        Low      Close  Label\n",
      "4150  51.286648  51.855648  50.729305  51.301525      1\n",
      "4149  50.794872  51.421833  50.318756  50.947674      1\n",
      "4148  50.077830  50.714893  49.619500  50.261810      1\n",
      "4147  48.970596  49.588543  48.528996  49.148100      1\n",
      "4146  48.707577  49.233883  48.141827  48.621273      0\n",
      "4145  49.977596  50.561210  49.408546  49.973087      0\n",
      "4144  51.435030  52.087368  50.964630  51.622590      1\n",
      "4143  51.163000  51.717495  50.603836  51.160260      0\n",
      "4142  50.496098  51.175920  50.051582  50.743553      1\n",
      "4141  50.477886  51.001820  49.880820  50.379395      1\n",
      "4140  50.214535  50.765488  49.677475  50.211900      0\n",
      "4139  49.767124  50.418713  49.330270  49.997025      1\n",
      "4138  49.869860  50.406700  49.325650  49.866394      0\n",
      "4137  49.853405  50.408770  49.331833  49.882534      0\n",
      "4136  49.637104  50.300713  49.168870  49.810375      0\n",
      "4135  51.308537  51.930440  50.787857  51.413754      0\n",
      "4134  51.839962  52.389340  51.266838  51.805050      0\n",
      "4133  52.102272  52.682330  51.549057  52.131557      1\n",
      "4132  52.345060  52.909073  51.758290  52.321526      1\n",
      "4131  52.079327  52.668346  51.547546  52.144405      1\n",
      "4130  52.113834  52.663116  51.512512  52.032380      0\n",
      "4129  52.370290  52.976820  51.833126  52.414314      1\n",
      "4128  52.601368  53.223507  52.093980  52.730392      1\n",
      "4127  52.388912  53.064857  51.926987  52.611168      0\n",
      "4126  51.990640  52.614850  51.501730  52.134605      1\n",
      "4125  51.748080  52.343080  51.230515  51.813710      0\n",
      "4124  52.039547  52.642128  51.505917  52.111786      1\n",
      "4123  50.836190  51.524048  50.397198  51.087350      1\n",
      "4122  50.409630  50.931440  49.820800  50.319790      0\n",
      "4121  50.656506  51.236830  50.115288  50.696350      1\n",
      "...         ...        ...        ...        ...    ...\n",
      "29    50.262840  50.795715  49.646110  50.125675      0\n",
      "28    51.269460  51.749653  50.463760  50.785583      0\n",
      "27    51.984600  52.737057  51.548782  52.285522      0\n",
      "26    53.600826  54.068752  52.725586  53.036842      1\n",
      "25    53.681710  54.474255  53.266083  54.075424      0\n",
      "24    52.908573  53.565792  52.401360  53.012740      0\n",
      "23    52.574260  53.307270  52.090958  52.823640      1\n",
      "22    50.886340  51.615240  50.453297  51.150333      0\n",
      "21    51.022583  51.563374  50.359985  50.843980      1\n",
      "20    49.674810  50.509150  49.338036  50.169815      1\n",
      "19    48.314137  48.961967  47.880882  48.474420      0\n",
      "18    49.148136  49.738514  48.605690  49.171394      0\n",
      "17    49.564690  50.145267  48.978990  49.490760      1\n",
      "16    50.684624  51.185757  49.952244  50.356346      1\n",
      "15    50.543070  51.270927  50.099205  50.802000      0\n",
      "14    51.521700  52.058180  50.788780  51.232650      0\n",
      "13    52.788120  53.309177  52.052692  52.473694      0\n",
      "12    53.620182  54.203900  52.923126  53.463127      0\n",
      "11    54.457294  55.018660  53.675610  54.110687      0\n",
      "10    56.465405  57.307053  55.988810  56.847454      1\n",
      "9     54.084770  55.045433  53.694090  54.648050      1\n",
      "8     52.093277  52.980114  51.717680  52.561592      1\n",
      "7     53.478184  54.054157  52.783726  53.255680      0\n",
      "6     55.505970  56.111870  54.732850  55.247547      1\n",
      "5     56.367370  56.982815  55.724327  56.298298      1\n",
      "4     54.480465  55.301280  54.033516  54.843200      1\n",
      "3     55.515903  56.147076  54.792810  55.318428      1\n",
      "2     55.800102  56.667484  55.293945  56.119774      0\n",
      "1     56.947100  57.588123  56.196785  56.784935      0\n",
      "0     57.708214  58.503117  57.120476  57.788376      0\n",
      "\n",
      "[4151 rows x 5 columns]\n"
     ]
    }
   ],
   "source": [
    "# IMPORTING DATASET \n",
    "#dataset = pd.read_csv('apple_share_price.csv', usecols=[1,2,3,4])\n",
    "#dataset = pd.read_csv('Stock_with_label.csv', usecols=[1,2,3,4,5])\n",
    "#dataset = pd.read_csv('Stock_with_label_sa.csv', usecols=[1,2,3,4,5])\n",
    "#dataset = pd.read_csv('AE_MSFT_SA.csv', usecols=[1,2,3,4,5])\n",
    "dataset = pd.read_csv('Stock_new_with_AELabel.csv', usecols=[1,2,3,4,5])\n",
    "dataset = dataset.reindex(index = dataset.index[::-1])\n",
    "print(dataset)\n",
    "dataset.shape\n",
    "dataset = dataset.values #return the numpy representation of the given DataFrame.\n",
    "dataset = dataset.astype('float32')"
   ]
  },
  {
   "cell_type": "code",
   "execution_count": 139,
   "metadata": {},
   "outputs": [],
   "source": [
    "# normalize the dataset\n",
    "scaler = MinMaxScaler(feature_range=(0, 1))\n",
    "dataset = scaler.fit_transform(dataset)"
   ]
  },
  {
   "cell_type": "code",
   "execution_count": 140,
   "metadata": {},
   "outputs": [
    {
     "name": "stdout",
     "output_type": "stream",
     "text": [
      "(3320, 5)\n",
      "(831, 5)\n"
     ]
    }
   ],
   "source": [
    "# split into train and test sets\n",
    "train_size = int(len(dataset) * 0.80) #1114\n",
    "test_size = len(dataset) - train_size #550\n",
    "train, test = dataset[0:train_size,:], dataset[train_size:len(dataset),:]\n",
    "print(train.shape) # (1114,4)\n",
    "print(test.shape) #(550,4)"
   ]
  },
  {
   "cell_type": "code",
   "execution_count": 141,
   "metadata": {},
   "outputs": [],
   "source": [
    "# split a multivariate sequence into samples\n",
    "def create_dataset(sequences, n_steps):\n",
    "    X, y = list(), list()\n",
    "    for i in range(len(sequences)):\n",
    "        # find the end of this pattern\n",
    "        end_ix = i + n_steps\n",
    "        # check if we are beyond the dataset\n",
    "        if end_ix > len(sequences)-1:\n",
    "            break\n",
    "        # gather input and output parts of the pattern\n",
    "        seq_x, seq_y = sequences[i:end_ix, :], sequences[end_ix, :]\n",
    "        X.append(seq_x)\n",
    "        y.append(seq_y)\n",
    "    return np.array(X), np.array(y)"
   ]
  },
  {
   "cell_type": "code",
   "execution_count": 142,
   "metadata": {},
   "outputs": [
    {
     "name": "stdout",
     "output_type": "stream",
     "text": [
      "(3318, 2, 5)\n",
      "(3318, 5)\n",
      "(829, 2, 5)\n",
      "(829, 5)\n"
     ]
    }
   ],
   "source": [
    "# reshape into X=t and Y=t+1\n",
    "look_back = 2\n",
    "trainX, trainY = create_dataset(train, look_back)\n",
    "testX, testY = create_dataset(test, look_back)\n",
    "print(trainX.shape)\n",
    "print(trainY.shape)\n",
    "print(testX.shape)\n",
    "print(testY.shape)"
   ]
  },
  {
   "cell_type": "code",
   "execution_count": 143,
   "metadata": {},
   "outputs": [
    {
     "name": "stdout",
     "output_type": "stream",
     "text": [
      "[[[0.8489531  0.8457913  0.84807825 0.84761524 1.        ]\n",
      "  [0.8373858  0.83572763 0.8383192  0.8393028  1.        ]]\n",
      "\n",
      " [[0.8373858  0.83572763 0.8383192  0.8393028  1.        ]\n",
      "  [0.8205197  0.8193279  0.8216975  0.8231909  1.        ]]\n",
      "\n",
      " [[0.8205197  0.8193279  0.8216975  0.8231909  1.        ]\n",
      "  [0.79447544 0.79319876 0.79577565 0.7970284  1.        ]]\n",
      "\n",
      " ...\n",
      "\n",
      " [[0.24859288 0.24853367 0.24934924 0.25057587 0.        ]\n",
      "  [0.24355283 0.24300146 0.24392658 0.24442449 0.        ]]\n",
      "\n",
      " [[0.24355283 0.24300146 0.24392658 0.24442449 0.        ]\n",
      "  [0.24391821 0.24283206 0.24368459 0.2433097  1.        ]]\n",
      "\n",
      " [[0.24391821 0.24283206 0.24368459 0.2433097  1.        ]\n",
      "  [0.25204095 0.25063825 0.25140113 0.25090614 1.        ]]]\n"
     ]
    }
   ],
   "source": [
    "print(trainX)"
   ]
  },
  {
   "cell_type": "code",
   "execution_count": 144,
   "metadata": {},
   "outputs": [
    {
     "name": "stdout",
     "output_type": "stream",
     "text": [
      "[[0.8205197  0.8193279  0.8216975  0.8231909  1.        ]\n",
      " [0.79447544 0.79319876 0.79577565 0.7970284  1.        ]\n",
      " [0.78828883 0.7849713  0.78657234 0.7846526  0.        ]\n",
      " ...\n",
      " [0.24391821 0.24283206 0.24368459 0.2433097  1.        ]\n",
      " [0.25204095 0.25063825 0.25140113 0.25090614 1.        ]\n",
      " [0.24215457 0.24182087 0.24272531 0.24364665 0.        ]]\n"
     ]
    }
   ],
   "source": [
    "print(trainY)"
   ]
  },
  {
   "cell_type": "code",
   "execution_count": 145,
   "metadata": {},
   "outputs": [
    {
     "name": "stdout",
     "output_type": "stream",
     "text": [
      "[[[0.23863992 0.2371884  0.23801339 0.2375786  0.        ]\n",
      "  [0.24174109 0.24058688 0.24170303 0.24163404 1.        ]]\n",
      "\n",
      " [[0.24174109 0.24058688 0.24170303 0.24163404 1.        ]\n",
      "  [0.24686947 0.24580878 0.24679685 0.24668702 1.        ]]\n",
      "\n",
      " [[0.24686947 0.24580878 0.24679685 0.24668702 1.        ]\n",
      "  [0.23611161 0.23654193 0.23743218 0.23913512 0.        ]]\n",
      "\n",
      " ...\n",
      "\n",
      " [[0.9240775  0.9257235  0.9266212  0.9308139  1.        ]\n",
      "  [0.9484328  0.9453444  0.94466996 0.94197774 1.        ]]\n",
      "\n",
      " [[0.9484328  0.9453444  0.94466996 0.94197774 1.        ]\n",
      "  [0.9551177  0.95741683 0.9565823  0.9608023  0.        ]]\n",
      "\n",
      " [[0.9551177  0.95741683 0.9565823  0.9608023  0.        ]\n",
      "  [0.98209715 0.9787739  0.9780433  0.9764279  0.        ]]]\n"
     ]
    }
   ],
   "source": [
    "print(testX)"
   ]
  },
  {
   "cell_type": "code",
   "execution_count": 146,
   "metadata": {},
   "outputs": [
    {
     "name": "stdout",
     "output_type": "stream",
     "text": [
      "[[0.24686947 0.24580878 0.24679685 0.24668702 1.        ]\n",
      " [0.23611161 0.23654193 0.23743218 0.23913512 0.        ]\n",
      " [0.23994747 0.23823303 0.23908341 0.2380198  1.        ]\n",
      " ...\n",
      " [0.9551177  0.95741683 0.9565823  0.9608023  0.        ]\n",
      " [0.98209715 0.9787739  0.9780433  0.9764279  0.        ]\n",
      " [0.9999999  1.         1.         1.0000001  0.        ]]\n"
     ]
    }
   ],
   "source": [
    "print(testY)"
   ]
  },
  {
   "cell_type": "code",
   "execution_count": 147,
   "metadata": {},
   "outputs": [
    {
     "name": "stdout",
     "output_type": "stream",
     "text": [
      "_________________________________________________________________\n",
      "Layer (type)                 Output Shape              Param #   \n",
      "=================================================================\n",
      "gru_5 (GRU)                  (None, 2, 100)            31800     \n",
      "_________________________________________________________________\n",
      "gru_6 (GRU)                  (None, 256)               274176    \n",
      "_________________________________________________________________\n",
      "dropout_3 (Dropout)          (None, 256)               0         \n",
      "_________________________________________________________________\n",
      "dense_3 (Dense)              (None, 5)                 1285      \n",
      "=================================================================\n",
      "Total params: 307,261\n",
      "Trainable params: 307,261\n",
      "Non-trainable params: 0\n",
      "_________________________________________________________________\n"
     ]
    }
   ],
   "source": [
    "from keras.models import Sequential\n",
    "from keras.layers import Dense\n",
    "from keras.layers import LSTM, GRU\n",
    "from sklearn.preprocessing import MinMaxScaler\n",
    "from sklearn.metrics import mean_squared_error\n",
    "from keras.utils.vis_utils import plot_model\n",
    "# define model\n",
    "n_features = trainX.shape[2]\n",
    "model = Sequential()\n",
    "model.add(GRU(100, return_sequences=True, input_shape=(look_back, n_features)))\n",
    "model.add(GRU(256, return_sequences=False))\n",
    "model.add(Dropout(0.2))\n",
    "#model.add(LSTM(100, activation='relu'))\n",
    "model.add(Dense(n_features))\n",
    "model.compile(optimizer='sgd', loss='mae')\n",
    "model.summary()\n",
    "\n",
    "\n",
    "# n_features = trainX.shape[2]\n",
    "# model = Sequential()\n",
    "# model.add(LSTM(100, activation='relu', return_sequences=True, input_shape=(look_back, n_features)))\n",
    "# model.add(LSTM(256, activation='relu'))\n",
    "# model.add(Dropout(0.2))\n",
    "# #model.add(LSTM(100, activation='relu'))\n",
    "# model.add(Dense(n_features))\n",
    "# model.compile(optimizer='adam', loss='mse')\n",
    "# model.summary()\n",
    "plot_model(model, to_file='model_plot1.png', show_shapes=True, show_layer_names=True)"
   ]
  },
  {
   "cell_type": "code",
   "execution_count": 148,
   "metadata": {},
   "outputs": [],
   "source": [
    "#tensorboard = TensorBoard(log_dir='./logs/run1/', write_graph=True, write_images=False)\n",
    "#tensorboard = TensorBoard(log_dir='/home/user/Python_docs_rks/LSTM_prediction/LSTM_SABU_SIR/SABU_SIR_26-04-2020/logs/run1/',write_graph=True, write_images=False)\n",
    "#early_stop = EarlyStopping(monitor='val_loss', min_delta=0, patience=100, verbose=1, mode=min)\n",
    "#model_file = \"/home/sabu/Desktop/weights/best_model.hdf5\"\n",
    "#model_file = \"/home/user/Python_docs_rks/LSTM_prediction/LSTM_SABU_SIR/weights/best_model.hdf5\"\n",
    "#checkpoint = ModelCheckpoint(model_file, monitor='val_loss', verbose=1, save_best_only=True, mode='min')"
   ]
  },
  {
   "cell_type": "code",
   "execution_count": 149,
   "metadata": {},
   "outputs": [
    {
     "name": "stdout",
     "output_type": "stream",
     "text": [
      "Train on 3318 samples, validate on 829 samples\n",
      "Epoch 1/100\n",
      " - 2s - loss: 0.2535 - val_loss: 0.1867\n",
      "Epoch 2/100\n",
      " - 1s - loss: 0.2011 - val_loss: 0.1821\n",
      "Epoch 3/100\n",
      " - 1s - loss: 0.1953 - val_loss: 0.1771\n",
      "Epoch 4/100\n",
      " - 1s - loss: 0.1897 - val_loss: 0.1722\n",
      "Epoch 5/100\n",
      " - 1s - loss: 0.1830 - val_loss: 0.1679\n",
      "Epoch 6/100\n",
      " - 1s - loss: 0.1759 - val_loss: 0.1602\n",
      "Epoch 7/100\n",
      " - 1s - loss: 0.1677 - val_loss: 0.1541\n",
      "Epoch 8/100\n",
      " - 1s - loss: 0.1585 - val_loss: 0.1449\n",
      "Epoch 9/100\n",
      " - 1s - loss: 0.1482 - val_loss: 0.1346\n",
      "Epoch 10/100\n",
      " - 1s - loss: 0.1370 - val_loss: 0.1244\n",
      "Epoch 11/100\n",
      " - 1s - loss: 0.1266 - val_loss: 0.1169\n",
      "Epoch 12/100\n",
      " - 1s - loss: 0.1208 - val_loss: 0.1130\n",
      "Epoch 13/100\n",
      " - 1s - loss: 0.1174 - val_loss: 0.1123\n",
      "Epoch 14/100\n",
      " - 1s - loss: 0.1166 - val_loss: 0.1124\n",
      "Epoch 15/100\n",
      " - 1s - loss: 0.1160 - val_loss: 0.1128\n",
      "Epoch 16/100\n",
      " - 1s - loss: 0.1150 - val_loss: 0.1129\n",
      "Epoch 17/100\n",
      " - 1s - loss: 0.1147 - val_loss: 0.1134\n",
      "Epoch 18/100\n",
      " - 1s - loss: 0.1141 - val_loss: 0.1135\n",
      "Epoch 19/100\n",
      " - 1s - loss: 0.1135 - val_loss: 0.1139\n",
      "Epoch 20/100\n",
      " - 1s - loss: 0.1133 - val_loss: 0.1139\n",
      "Epoch 21/100\n",
      " - 1s - loss: 0.1127 - val_loss: 0.1142\n",
      "Epoch 22/100\n",
      " - 1s - loss: 0.1123 - val_loss: 0.1145\n",
      "Epoch 23/100\n",
      " - 1s - loss: 0.1121 - val_loss: 0.1147\n",
      "Epoch 24/100\n",
      " - 1s - loss: 0.1115 - val_loss: 0.1149\n",
      "Epoch 25/100\n",
      " - 1s - loss: 0.1111 - val_loss: 0.1149\n",
      "Epoch 26/100\n",
      " - 1s - loss: 0.1112 - val_loss: 0.1150\n",
      "Epoch 27/100\n",
      " - 1s - loss: 0.1106 - val_loss: 0.1151\n",
      "Epoch 28/100\n",
      " - 1s - loss: 0.1105 - val_loss: 0.1153\n",
      "Epoch 29/100\n",
      " - 1s - loss: 0.1102 - val_loss: 0.1153\n",
      "Epoch 30/100\n",
      " - 1s - loss: 0.1100 - val_loss: 0.1154\n",
      "Epoch 31/100\n",
      " - 1s - loss: 0.1097 - val_loss: 0.1156\n",
      "Epoch 32/100\n",
      " - 1s - loss: 0.1095 - val_loss: 0.1155\n",
      "Epoch 33/100\n",
      " - 1s - loss: 0.1092 - val_loss: 0.1156\n",
      "Epoch 34/100\n",
      " - 1s - loss: 0.1089 - val_loss: 0.1157\n",
      "Epoch 35/100\n",
      " - 1s - loss: 0.1089 - val_loss: 0.1157\n",
      "Epoch 36/100\n",
      " - 1s - loss: 0.1085 - val_loss: 0.1159\n",
      "Epoch 37/100\n",
      " - 1s - loss: 0.1084 - val_loss: 0.1158\n",
      "Epoch 38/100\n",
      " - 1s - loss: 0.1083 - val_loss: 0.1162\n",
      "Epoch 39/100\n",
      " - 1s - loss: 0.1084 - val_loss: 0.1161\n",
      "Epoch 40/100\n",
      " - 1s - loss: 0.1082 - val_loss: 0.1161\n",
      "Epoch 41/100\n",
      " - 1s - loss: 0.1076 - val_loss: 0.1166\n",
      "Epoch 42/100\n",
      " - 1s - loss: 0.1076 - val_loss: 0.1165\n",
      "Epoch 43/100\n",
      " - 1s - loss: 0.1075 - val_loss: 0.1164\n",
      "Epoch 44/100\n",
      " - 1s - loss: 0.1072 - val_loss: 0.1165\n",
      "Epoch 45/100\n",
      " - 1s - loss: 0.1072 - val_loss: 0.1165\n",
      "Epoch 46/100\n",
      " - 1s - loss: 0.1071 - val_loss: 0.1164\n",
      "Epoch 47/100\n",
      " - 1s - loss: 0.1067 - val_loss: 0.1170\n",
      "Epoch 48/100\n",
      " - 2s - loss: 0.1066 - val_loss: 0.1167\n",
      "Epoch 49/100\n",
      " - 2s - loss: 0.1065 - val_loss: 0.1168\n",
      "Epoch 50/100\n",
      " - 1s - loss: 0.1064 - val_loss: 0.1168\n",
      "Epoch 51/100\n",
      " - 1s - loss: 0.1062 - val_loss: 0.1170\n",
      "Epoch 52/100\n",
      " - 1s - loss: 0.1061 - val_loss: 0.1170\n",
      "Epoch 53/100\n",
      " - 1s - loss: 0.1061 - val_loss: 0.1172\n",
      "Epoch 54/100\n",
      " - 1s - loss: 0.1060 - val_loss: 0.1173\n",
      "Epoch 55/100\n",
      " - 1s - loss: 0.1055 - val_loss: 0.1172\n",
      "Epoch 56/100\n",
      " - 1s - loss: 0.1056 - val_loss: 0.1173\n",
      "Epoch 57/100\n",
      " - 1s - loss: 0.1054 - val_loss: 0.1173\n",
      "Epoch 58/100\n",
      " - 1s - loss: 0.1052 - val_loss: 0.1176\n",
      "Epoch 59/100\n",
      " - 1s - loss: 0.1051 - val_loss: 0.1175\n",
      "Epoch 60/100\n",
      " - 1s - loss: 0.1051 - val_loss: 0.1175\n",
      "Epoch 61/100\n",
      " - 1s - loss: 0.1050 - val_loss: 0.1176\n",
      "Epoch 62/100\n",
      " - 1s - loss: 0.1051 - val_loss: 0.1180\n",
      "Epoch 63/100\n",
      " - 1s - loss: 0.1049 - val_loss: 0.1178\n",
      "Epoch 64/100\n",
      " - 1s - loss: 0.1048 - val_loss: 0.1179\n",
      "Epoch 65/100\n",
      " - 1s - loss: 0.1045 - val_loss: 0.1179\n",
      "Epoch 66/100\n",
      " - 1s - loss: 0.1043 - val_loss: 0.1181\n",
      "Epoch 67/100\n",
      " - 1s - loss: 0.1042 - val_loss: 0.1180\n",
      "Epoch 68/100\n",
      " - 1s - loss: 0.1043 - val_loss: 0.1180\n",
      "Epoch 69/100\n",
      " - 1s - loss: 0.1041 - val_loss: 0.1184\n",
      "Epoch 70/100\n",
      " - 1s - loss: 0.1040 - val_loss: 0.1182\n",
      "Epoch 71/100\n",
      " - 1s - loss: 0.1038 - val_loss: 0.1183\n",
      "Epoch 72/100\n",
      " - 1s - loss: 0.1041 - val_loss: 0.1184\n",
      "Epoch 73/100\n",
      " - 1s - loss: 0.1037 - val_loss: 0.1184\n",
      "Epoch 74/100\n",
      " - 1s - loss: 0.1038 - val_loss: 0.1184\n",
      "Epoch 75/100\n",
      " - 1s - loss: 0.1037 - val_loss: 0.1185\n",
      "Epoch 76/100\n",
      " - 1s - loss: 0.1036 - val_loss: 0.1186\n",
      "Epoch 77/100\n",
      " - 1s - loss: 0.1035 - val_loss: 0.1185\n",
      "Epoch 78/100\n",
      " - 1s - loss: 0.1035 - val_loss: 0.1184\n",
      "Epoch 79/100\n",
      " - 1s - loss: 0.1032 - val_loss: 0.1186\n",
      "Epoch 80/100\n",
      " - 1s - loss: 0.1031 - val_loss: 0.1185\n",
      "Epoch 81/100\n",
      " - 1s - loss: 0.1034 - val_loss: 0.1185\n",
      "Epoch 82/100\n",
      " - 1s - loss: 0.1034 - val_loss: 0.1187\n",
      "Epoch 83/100\n",
      " - 1s - loss: 0.1034 - val_loss: 0.1184\n",
      "Epoch 84/100\n",
      " - 1s - loss: 0.1033 - val_loss: 0.1185\n",
      "Epoch 85/100\n",
      " - 1s - loss: 0.1032 - val_loss: 0.1186\n",
      "Epoch 86/100\n",
      " - 1s - loss: 0.1030 - val_loss: 0.1189\n",
      "Epoch 87/100\n",
      " - 1s - loss: 0.1031 - val_loss: 0.1188\n",
      "Epoch 88/100\n",
      " - 1s - loss: 0.1030 - val_loss: 0.1186\n",
      "Epoch 89/100\n",
      " - 1s - loss: 0.1030 - val_loss: 0.1185\n",
      "Epoch 90/100\n",
      " - 1s - loss: 0.1028 - val_loss: 0.1186\n",
      "Epoch 91/100\n",
      " - 1s - loss: 0.1031 - val_loss: 0.1187\n",
      "Epoch 92/100\n",
      " - 1s - loss: 0.1030 - val_loss: 0.1187\n",
      "Epoch 93/100\n",
      " - 1s - loss: 0.1028 - val_loss: 0.1186\n",
      "Epoch 94/100\n",
      " - 1s - loss: 0.1025 - val_loss: 0.1185\n",
      "Epoch 95/100\n",
      " - 1s - loss: 0.1027 - val_loss: 0.1186\n",
      "Epoch 96/100\n",
      " - 1s - loss: 0.1028 - val_loss: 0.1189\n",
      "Epoch 97/100\n",
      " - 1s - loss: 0.1027 - val_loss: 0.1186\n",
      "Epoch 98/100\n",
      " - 1s - loss: 0.1025 - val_loss: 0.1186\n",
      "Epoch 99/100\n",
      " - 1s - loss: 0.1026 - val_loss: 0.1185\n",
      "Epoch 100/100\n",
      " - 1s - loss: 0.1027 - val_loss: 0.1188\n"
     ]
    }
   ],
   "source": [
    "history = model.fit(trainX, trainY, validation_data=(testX, testY), epochs=100, batch_size=32, verbose=2)#, callbacks=[tensorboard, early_stop, checkpoint])"
   ]
  },
  {
   "cell_type": "code",
   "execution_count": 150,
   "metadata": {},
   "outputs": [
    {
     "name": "stdout",
     "output_type": "stream",
     "text": [
      "dict_keys(['val_loss', 'loss'])\n"
     ]
    }
   ],
   "source": [
    "history_dict = history.history\n",
    "loss = history_dict['loss']\n",
    "#val_loss = history_dict['val_loss']\n",
    "print(history_dict.keys())"
   ]
  },
  {
   "cell_type": "code",
   "execution_count": 151,
   "metadata": {},
   "outputs": [
    {
     "name": "stderr",
     "output_type": "stream",
     "text": [
      "No handles with labels found to put in legend.\n"
     ]
    },
    {
     "data": {
      "image/png": "[encoded data removed]",
      "text/plain": [
       "<Figure size 432x288 with 1 Axes>"
      ]
     },
     "metadata": {
      "needs_background": "light"
     },
     "output_type": "display_data"
    }
   ],
   "source": [
    "import matplotlib\n",
    "#plt.plot(ae.history.history['val_loss'], 'r', ae.history.history['loss'], 'b')\n",
    "plt.plot(model.history.history['val_loss'], 'r',model.history.history['loss'], 'b')\n",
    "plt.xlabel('Epochs')\n",
    "plt.ylabel('Loss')\n",
    "plt.title('Training and validation loss')\n",
    "plt.legend()\n",
    "plt.show()"
   ]
  },
  {
   "cell_type": "code",
   "execution_count": 152,
   "metadata": {},
   "outputs": [
    {
     "name": "stdout",
     "output_type": "stream",
     "text": [
      "829/829 [==============================] - 0s 119us/step\n",
      "[[0.23859286 0.23533173 0.23569149 0.23689796 0.9826431 ]\n",
      " [0.2388418  0.23570651 0.23644456 0.23789589 0.97295326]\n",
      " [0.24167685 0.23896907 0.23885077 0.24083456 0.97989094]\n",
      " ...\n",
      " [0.9171703  0.91261005 0.9164535  0.91850525 0.9504912 ]\n",
      " [0.93871355 0.9327095  0.936249   0.938728   0.95682627]\n",
      " [0.96087694 0.9541611  0.95755434 0.9597867  0.96514976]]\n"
     ]
    }
   ],
   "source": [
    "trainPredict = model.predict(trainX)\n",
    "yhat = model.predict(testX, verbose=1)\n",
    "print(yhat)"
   ]
  },
  {
   "cell_type": "code",
   "execution_count": 153,
   "metadata": {},
   "outputs": [],
   "source": [
    "# invert predictions\n",
    "trainPredict = scaler.inverse_transform(trainPredict)\n",
    "trainY = scaler.inverse_transform(trainY)\n",
    "testPredict = scaler.inverse_transform(yhat)\n",
    "testY = scaler.inverse_transform(testY)"
   ]
  },
  {
   "cell_type": "code",
   "execution_count": 154,
   "metadata": {},
   "outputs": [
    {
     "name": "stdout",
     "output_type": "stream",
     "text": [
      "[[50.45299    50.964645   49.892635   50.55004     0.9535109 ]\n",
      " [49.916973   50.426735   49.35898    50.007786    0.95390904]\n",
      " [49.056755   49.558292   48.503185   49.13798     0.9546022 ]\n",
      " ...\n",
      " [25.828182   26.064934   25.450184   25.800068    0.9892689 ]\n",
      " [25.508307   25.714506   25.134464   25.472294    0.98250496]\n",
      " [25.492111   25.699482   25.141722   25.492153    0.97285044]]\n"
     ]
    }
   ],
   "source": [
    "print(trainPredict)"
   ]
  },
  {
   "cell_type": "code",
   "execution_count": 155,
   "metadata": {},
   "outputs": [
    {
     "name": "stdout",
     "output_type": "stream",
     "text": [
      "(3318, 5)\n"
     ]
    }
   ],
   "source": [
    "print(trainPredict.shape)"
   ]
  },
  {
   "cell_type": "code",
   "execution_count": 156,
   "metadata": {},
   "outputs": [
    {
     "name": "stdout",
     "output_type": "stream",
     "text": [
      "[[50.077835 50.714893 49.6195   50.26181   1.      ]\n",
      " [48.970596 49.588547 48.529    49.1481    1.      ]\n",
      " [48.70758  49.233883 48.141827 48.621277  0.      ]\n",
      " ...\n",
      " [25.564335 25.863918 25.303177 25.576916  1.      ]\n",
      " [25.909664 26.200418 25.627802 25.900288  1.      ]\n",
      " [25.489357 25.82033  25.262821 25.59126   0.      ]]\n"
     ]
    }
   ],
   "source": [
    "print(trainY)"
   ]
  },
  {
   "cell_type": "code",
   "execution_count": 157,
   "metadata": {},
   "outputs": [
    {
     "name": "stdout",
     "output_type": "stream",
     "text": [
      "(3318, 5)\n"
     ]
    }
   ],
   "source": [
    "print(trainY.shape)"
   ]
  },
  {
   "cell_type": "code",
   "execution_count": 158,
   "metadata": {},
   "outputs": [
    {
     "name": "stdout",
     "output_type": "stream",
     "text": [
      "[[25.337936   25.540602   24.966917   25.303976    0.9826431 ]\n",
      " [25.348518   25.556757   24.998598   25.346457    0.97295326]\n",
      " [25.469046   25.697397   25.099825   25.471552    0.97989094]\n",
      " ...\n",
      " [54.186813   54.736004   53.605774   54.319237    0.9504912 ]\n",
      " [55.1027     55.60243    54.438545   55.18009     0.95682627]\n",
      " [56.04495    56.52714    55.334835   56.07654     0.96514976]]\n"
     ]
    }
   ],
   "source": [
    "print(testPredict)"
   ]
  },
  {
   "cell_type": "code",
   "execution_count": 159,
   "metadata": {},
   "outputs": [
    {
     "name": "stdout",
     "output_type": "stream",
     "text": [
      "(829, 5)\n"
     ]
    }
   ],
   "source": [
    "print(testPredict.shape)"
   ]
  },
  {
   "cell_type": "code",
   "execution_count": 160,
   "metadata": {},
   "outputs": [
    {
     "name": "stdout",
     "output_type": "stream",
     "text": [
      "[[25.689804 25.992235 25.434107 25.720686  1.      ]\n",
      " [25.232447 25.59277  25.040146 25.399208  0.      ]\n",
      " [25.395525 25.665668 25.109612 25.35173   1.      ]\n",
      " ...\n",
      " [55.800102 56.667484 55.293945 56.11977   0.      ]\n",
      " [56.947098 57.588123 56.196785 56.784935  0.      ]\n",
      " [57.70821  58.503117 57.120476 57.78838   0.      ]]\n"
     ]
    }
   ],
   "source": [
    "print(testY)"
   ]
  },
  {
   "cell_type": "code",
   "execution_count": 161,
   "metadata": {},
   "outputs": [
    {
     "name": "stdout",
     "output_type": "stream",
     "text": [
      "(829, 5)\n"
     ]
    }
   ],
   "source": [
    "print(testY.shape)"
   ]
  },
  {
   "cell_type": "code",
   "execution_count": 162,
   "metadata": {},
   "outputs": [
    {
     "name": "stdout",
     "output_type": "stream",
     "text": [
      "[[51.286648 51.855648 50.729305 51.301525  1.      ]\n",
      " [50.794876 51.421833 50.318752 50.947674  1.      ]\n",
      " [50.077835 50.714893 49.6195   50.26181   1.      ]\n",
      " ...\n",
      " [25.564335 25.863918 25.303177 25.576916  1.      ]\n",
      " [25.909664 26.200418 25.627802 25.900288  1.      ]\n",
      " [25.489357 25.82033  25.262821 25.59126   0.      ]]\n"
     ]
    }
   ],
   "source": [
    "original = (scaler.inverse_transform(train))\n",
    "#print(scaler.inverse_transform(train))\n",
    "print(original)"
   ]
  },
  {
   "cell_type": "code",
   "execution_count": 163,
   "metadata": {},
   "outputs": [
    {
     "name": "stdout",
     "output_type": "stream",
     "text": [
      "[[51.286648]\n",
      " [50.794876]\n",
      " [50.077835]\n",
      " ...\n",
      " [25.564335]\n",
      " [25.909664]\n",
      " [25.489357]]\n",
      "(3320, 5)\n"
     ]
    }
   ],
   "source": [
    "Opentrain = original\n",
    "print(Opentrain[:,:1])\n",
    "print(Opentrain.shape)\n"
   ]
  },
  {
   "cell_type": "code",
   "execution_count": 164,
   "metadata": {},
   "outputs": [
    {
     "name": "stdout",
     "output_type": "stream",
     "text": [
      "[[51.855648]\n",
      " [51.421833]\n",
      " [50.714893]\n",
      " ...\n",
      " [25.863918]\n",
      " [26.200418]\n",
      " [25.82033 ]]\n"
     ]
    }
   ],
   "source": [
    "Hightrain = original\n",
    "print(Hightrain[:,1:2])"
   ]
  },
  {
   "cell_type": "code",
   "execution_count": 165,
   "metadata": {},
   "outputs": [
    {
     "name": "stdout",
     "output_type": "stream",
     "text": [
      "[[50.729305]\n",
      " [50.318752]\n",
      " [49.6195  ]\n",
      " ...\n",
      " [25.303177]\n",
      " [25.627802]\n",
      " [25.262821]]\n"
     ]
    }
   ],
   "source": [
    "Lowtrain = original\n",
    "print(Lowtrain[:,2:3])"
   ]
  },
  {
   "cell_type": "code",
   "execution_count": 166,
   "metadata": {},
   "outputs": [
    {
     "name": "stdout",
     "output_type": "stream",
     "text": [
      "[[51.301525]\n",
      " [50.947674]\n",
      " [50.26181 ]\n",
      " ...\n",
      " [25.576916]\n",
      " [25.900288]\n",
      " [25.59126 ]]\n"
     ]
    }
   ],
   "source": [
    "Closetrain = original\n",
    "print(Closetrain[:,3:4])"
   ]
  },
  {
   "cell_type": "code",
   "execution_count": 167,
   "metadata": {},
   "outputs": [
    {
     "name": "stdout",
     "output_type": "stream",
     "text": [
      "[[25.339935 25.620638 25.064596 25.33295   0.      ]\n",
      " [25.471777 25.767136 25.219816 25.505585  1.      ]\n",
      " [25.689804 25.992235 25.434107 25.720686  1.      ]\n",
      " ...\n",
      " [55.800102 56.667484 55.293945 56.11977   0.      ]\n",
      " [56.947098 57.588123 56.196785 56.784935  0.      ]\n",
      " [57.70821  58.503117 57.120476 57.78838   0.      ]]\n",
      "[[25.339935 25.620638 25.064596 25.33295   0.      ]\n",
      " [25.471777 25.767136 25.219816 25.505585  1.      ]\n",
      " [25.689804 25.992235 25.434107 25.720686  1.      ]\n",
      " ...\n",
      " [55.800102 56.667484 55.293945 56.11977   0.      ]\n",
      " [56.947098 57.588123 56.196785 56.784935  0.      ]\n",
      " [57.70821  58.503117 57.120476 57.78838   0.      ]]\n",
      "(831, 5)\n"
     ]
    }
   ],
   "source": [
    "original_test = (scaler.inverse_transform(test))\n",
    "print(scaler.inverse_transform(test))\n",
    "print(original_test)\n",
    "print(original_test.shape)"
   ]
  },
  {
   "cell_type": "code",
   "execution_count": 168,
   "metadata": {},
   "outputs": [
    {
     "name": "stdout",
     "output_type": "stream",
     "text": [
      "(831, 5)\n"
     ]
    }
   ],
   "source": [
    "Opentest = original_test\n",
    "#print(Opentest[:,:1])\n",
    "print(Opentest.shape)"
   ]
  },
  {
   "cell_type": "code",
   "execution_count": 169,
   "metadata": {},
   "outputs": [],
   "source": [
    "Hightest = original_test\n",
    "#print(Hightest[:,1:2])"
   ]
  },
  {
   "cell_type": "code",
   "execution_count": 170,
   "metadata": {},
   "outputs": [],
   "source": [
    "Lowtest = original_test\n",
    "#print(Lowtest[:,2:3])"
   ]
  },
  {
   "cell_type": "code",
   "execution_count": 171,
   "metadata": {},
   "outputs": [],
   "source": [
    "Closetest = original_test\n",
    "#print(Closetest[:,3:4])"
   ]
  },
  {
   "cell_type": "code",
   "execution_count": 172,
   "metadata": {},
   "outputs": [
    {
     "name": "stdout",
     "output_type": "stream",
     "text": [
      "[[50.45299    50.964645   49.892635   50.55004     0.9535109 ]\n",
      " [49.916973   50.426735   49.35898    50.007786    0.95390904]\n",
      " [49.056755   49.558292   48.503185   49.13798     0.9546022 ]\n",
      " ...\n",
      " [25.828182   26.064934   25.450184   25.800068    0.9892689 ]\n",
      " [25.508307   25.714506   25.134464   25.472294    0.98250496]\n",
      " [25.492111   25.699482   25.141722   25.492153    0.97285044]]\n"
     ]
    }
   ],
   "source": [
    "print(trainPredict)"
   ]
  },
  {
   "cell_type": "code",
   "execution_count": 173,
   "metadata": {},
   "outputs": [
    {
     "name": "stdout",
     "output_type": "stream",
     "text": [
      "[[50.45299 ]\n",
      " [49.916973]\n",
      " [49.056755]\n",
      " ...\n",
      " [25.828182]\n",
      " [25.508307]\n",
      " [25.492111]]\n"
     ]
    }
   ],
   "source": [
    "OpentrainPredict = trainPredict\n",
    "print(OpentrainPredict[:,:1])"
   ]
  },
  {
   "cell_type": "code",
   "execution_count": 174,
   "metadata": {},
   "outputs": [
    {
     "name": "stdout",
     "output_type": "stream",
     "text": [
      "[[50.964645]\n",
      " [50.426735]\n",
      " [49.558292]\n",
      " ...\n",
      " [26.064934]\n",
      " [25.714506]\n",
      " [25.699482]]\n"
     ]
    }
   ],
   "source": [
    "HightrainPredict = trainPredict\n",
    "print(HightrainPredict[:,1:2])"
   ]
  },
  {
   "cell_type": "code",
   "execution_count": 175,
   "metadata": {},
   "outputs": [
    {
     "name": "stdout",
     "output_type": "stream",
     "text": [
      "[[49.892635]\n",
      " [49.35898 ]\n",
      " [48.503185]\n",
      " ...\n",
      " [25.450184]\n",
      " [25.134464]\n",
      " [25.141722]]\n"
     ]
    }
   ],
   "source": [
    "LowtrainPredict = trainPredict\n",
    "print(LowtrainPredict[:,2:3])"
   ]
  },
  {
   "cell_type": "code",
   "execution_count": 176,
   "metadata": {},
   "outputs": [
    {
     "name": "stdout",
     "output_type": "stream",
     "text": [
      "[[50.55004 ]\n",
      " [50.007786]\n",
      " [49.13798 ]\n",
      " ...\n",
      " [25.800068]\n",
      " [25.472294]\n",
      " [25.492153]]\n"
     ]
    }
   ],
   "source": [
    "ClosetrainPredict = trainPredict\n",
    "print(ClosetrainPredict[:,3:4])"
   ]
  },
  {
   "cell_type": "code",
   "execution_count": 177,
   "metadata": {},
   "outputs": [],
   "source": [
    "OpentestPredict = testPredict\n",
    "#print(OpentestPredict[:,:1])"
   ]
  },
  {
   "cell_type": "code",
   "execution_count": 178,
   "metadata": {},
   "outputs": [],
   "source": [
    "HightestPredict = testPredict\n",
    "#print(HightestPredict[:,1:2])"
   ]
  },
  {
   "cell_type": "code",
   "execution_count": 179,
   "metadata": {},
   "outputs": [],
   "source": [
    "LowtestPredict = testPredict\n",
    "#print(LowtestPredict[:,2:3])"
   ]
  },
  {
   "cell_type": "code",
   "execution_count": 180,
   "metadata": {},
   "outputs": [],
   "source": [
    "ClosetestPredict = testPredict\n",
    "#print(ClosetestPredict[:,3:4])"
   ]
  },
  {
   "cell_type": "code",
   "execution_count": 181,
   "metadata": {},
   "outputs": [
    {
     "data": {
      "image/png": "[encoded data removed]",
      "text/plain": [
       "<Figure size 432x288 with 1 Axes>"
      ]
     },
     "metadata": {
      "needs_background": "light"
     },
     "output_type": "display_data"
    }
   ],
   "source": [
    "# # shift opentrain predictions for plotting\n",
    "OpentrainPlot = np.empty_like(Opentrain[:,:1])\n",
    "OpentrainPlot = Opentrain[:,:1]\n",
    "# shift OpentrainPredict predictions for plotting\n",
    "OpentrainPredictPlot = np.empty_like(OpentrainPredict[:,:1])\n",
    "OpentrainPredictPlot = OpentrainPredict[:,:1]\n",
    "# # plot baseline and predictions\n",
    "plt.plot(OpentrainPlot, '', label='Original open train price' )\n",
    "plt.plot(OpentrainPredictPlot, '', label='Predicted open train price' )\n",
    "plt.ylabel('Opening price')\n",
    "plt.xlabel(\"Trading days\")\n",
    "plt.legend(loc='upper left')\n",
    "plt.title('Stock Price Prediction-DAE-LSTM Model')\n",
    "plt.show()"
   ]
  },
  {
   "cell_type": "code",
   "execution_count": 182,
   "metadata": {},
   "outputs": [
    {
     "data": {
      "image/png": "[encoded data removed]",
      "text/plain": [
       "<Figure size 432x288 with 1 Axes>"
      ]
     },
     "metadata": {
      "needs_background": "light"
     },
     "output_type": "display_data"
    }
   ],
   "source": [
    "# # shift Hightrain predictions for plotting\n",
    "HightrainPlot = np.empty_like(Hightrain[:,1:2])\n",
    "HightrainPlot = Hightrain[:,1:2]\n",
    "# shift HightrainPredict predictions for plotting\n",
    "HightrainPredictPlot = np.empty_like(HightrainPredict[:,1:2])\n",
    "HightrainPredictPlot = HightrainPredict[:,1:2]\n",
    "# # plot baseline and predictions\n",
    "plt.plot(HightrainPlot, '', label='Original high train price' )\n",
    "plt.plot(HightrainPredictPlot, 'r', label='Predicted high train price' )\n",
    "plt.ylabel('High price')\n",
    "plt.xlabel(\"Trading days\")\n",
    "plt.legend(loc='upper left')\n",
    "plt.title('Stock Price Prediction-DAE-LSTM Model')\n",
    "plt.show()"
   ]
  },
  {
   "cell_type": "code",
   "execution_count": 183,
   "metadata": {},
   "outputs": [
    {
     "data": {
      "image/png": "[encoded data removed]",
      "text/plain": [
       "<Figure size 432x288 with 1 Axes>"
      ]
     },
     "metadata": {
      "needs_background": "light"
     },
     "output_type": "display_data"
    }
   ],
   "source": [
    "# # shift Lowtrain predictions for plotting\n",
    "LowtrainPlot = np.empty_like(Lowtrain[:,2:3])\n",
    "LowtrainPlot = Lowtrain[:,2:3]\n",
    "# shift LowtrainPredict predictions for plotting\n",
    "LowtrainPredictPlot = np.empty_like(LowtrainPredict[:,2:3])\n",
    "LowtrainPredictPlot = LowtrainPredict[:,2:3]\n",
    "# # plot baseline and predictions\n",
    "plt.plot(LowtrainPlot, '', label='Original Low train price' )\n",
    "plt.plot(LowtrainPredictPlot, 'y', label='Predicted Low train price' )\n",
    "plt.ylabel('Low price')\n",
    "plt.xlabel(\"Trading days\")\n",
    "plt.legend(loc='upper left')\n",
    "plt.title('Stock Price Prediction-DAE-LSTM Model')\n",
    "plt.show()"
   ]
  },
  {
   "cell_type": "code",
   "execution_count": 184,
   "metadata": {},
   "outputs": [
    {
     "data": {
      "image/png": "[encoded data removed]",
      "text/plain": [
       "<Figure size 432x288 with 1 Axes>"
      ]
     },
     "metadata": {
      "needs_background": "light"
     },
     "output_type": "display_data"
    }
   ],
   "source": [
    "# # shift Closetrain predictions for plotting\n",
    "ClosetrainPlot = np.empty_like(Closetrain[:,3:4])\n",
    "ClosetrainPlot = Hightrain[:,3:4]\n",
    "# shift ClosetrainPredict predictions for plotting\n",
    "ClosetrainPredictPlot = np.empty_like(ClosetrainPredict[:,3:4])\n",
    "ClosetrainPredictPlot = ClosetrainPredict[:,3:4]\n",
    "# # plot baseline and predictions\n",
    "plt.plot(ClosetrainPlot, '', label='Original Close train price' )\n",
    "plt.plot(ClosetrainPredictPlot, '', label='Predicted Close train price' )\n",
    "plt.ylabel('Close price')\n",
    "plt.xlabel(\"Trading days\")\n",
    "plt.legend(loc='upper left')\n",
    "plt.title('Stock Price Prediction-DAE-LSTM Model')\n",
    "plt.show()"
   ]
  },
  {
   "cell_type": "code",
   "execution_count": 185,
   "metadata": {},
   "outputs": [
    {
     "data": {
      "image/png": "[encoded data removed]",
      "text/plain": [
       "<Figure size 432x288 with 1 Axes>"
      ]
     },
     "metadata": {
      "needs_background": "light"
     },
     "output_type": "display_data"
    }
   ],
   "source": [
    "\n",
    "# shift OpentestPredict predictions for plotting\n",
    "OpentestPlot = np.empty_like(Opentrain[:,:1])\n",
    "OpentestPlot = Opentest[:,:1]\n",
    "# shift OpentestPredict predictions for plotting\n",
    "OpentestPredictPlot = np.empty_like(OpentestPredict[:,:1])\n",
    "OpentestPredictPlot = OpentestPredict[:,:1]\n",
    "# # plot baseline and predictions\n",
    "plt.plot(OpentestPlot, 'r', label='Original Close price' )\n",
    "plt.plot(OpentestPredictPlot, 'b', label='Predicted Close price' )\n",
    "plt.ylabel('Closing price')\n",
    "plt.xlabel(\"Trading days\")\n",
    "plt.legend(loc='upper left')\n",
    "plt.title('Stock Price Prediction-DAE-LSTM Model')\n",
    "plt.show()"
   ]
  },
  {
   "cell_type": "code",
   "execution_count": 186,
   "metadata": {},
   "outputs": [
    {
     "data": {
      "image/png": "[encoded data removed]",
      "text/plain": [
       "<Figure size 432x288 with 1 Axes>"
      ]
     },
     "metadata": {
      "needs_background": "light"
     },
     "output_type": "display_data"
    }
   ],
   "source": [
    "# shift Hightest predictions for plotting\n",
    "HightestPlot = np.empty_like(Hightest[:,1:2])\n",
    "HightestPlot = Hightest[:,1:2]\n",
    "# shift HightestPredict predictions for plotting\n",
    "HightestPredictPlot = np.empty_like(HightestPredict[:,1:2])\n",
    "HightestPredictPlot = HightestPredict[:,1:2]\n",
    "# # plot baseline and predictions\n",
    "plt.plot(HightestPlot, 'y', label='Original test High price' )\n",
    "plt.plot(HightestPredictPlot, '', label='Predicted test High price' )\n",
    "plt.ylabel('High price')\n",
    "plt.xlabel(\"Trading days\")\n",
    "plt.legend(loc='upper left')\n",
    "plt.title('Stock Price Prediction-DAE-LSTM Model')\n",
    "plt.show()"
   ]
  },
  {
   "cell_type": "code",
   "execution_count": 187,
   "metadata": {},
   "outputs": [
    {
     "data": {
      "image/png": "[encoded data removed]",
      "text/plain": [
       "<Figure size 432x288 with 1 Axes>"
      ]
     },
     "metadata": {
      "needs_background": "light"
     },
     "output_type": "display_data"
    }
   ],
   "source": [
    "# shift Lowtest predictions for plotting\n",
    "LowtestPlot = np.empty_like(Lowtest[:,2:3])\n",
    "LowtestPlot = Lowtest[:,2:3]\n",
    "# shift LowtrainPredict predictions for plotting\n",
    "LowtestPredictPlot = np.empty_like(LowtestPredict[:,2:3])\n",
    "LowtestPredictPlot = LowtestPredict[:,2:3]\n",
    "# # plot baseline and predictions\n",
    "plt.plot(LowtestPlot, 'r', label='Original test Low price' )\n",
    "plt.plot(LowtestPredictPlot, '', label='Predicted test Low price' )\n",
    "plt.ylabel('Low price')\n",
    "plt.xlabel(\"Trading days\")\n",
    "plt.legend(loc='upper left')\n",
    "plt.title('Stock Price Prediction-DAE-LSTM Model')\n",
    "plt.show()"
   ]
  },
  {
   "cell_type": "code",
   "execution_count": 188,
   "metadata": {},
   "outputs": [
    {
     "data": {
      "image/png": "[encoded data removed]",
      "text/plain": [
       "<Figure size 432x288 with 1 Axes>"
      ]
     },
     "metadata": {
      "needs_background": "light"
     },
     "output_type": "display_data"
    }
   ],
   "source": [
    "# shift Closetest predictions for plotting\n",
    "ClosetestPlot = np.empty_like(Closetest[:,3:4])\n",
    "ClosetestPlot = Closetest[:,3:4]\n",
    "# shift ClosetrainPredict predictions for plotting\n",
    "ClosetestPredictPlot = np.empty_like(ClosetestPredict[:,3:4])\n",
    "ClosetestPredictPlot = ClosetestPredict[:,3:4]\n",
    "# # plot baseline and predictions\n",
    "plt.plot(ClosetestPlot, 'b', label='Original test Close price' )\n",
    "plt.plot(ClosetestPredictPlot, 'r', label='Predicted test Close price' )\n",
    "plt.ylabel('Close price')\n",
    "plt.xlabel(\"Trading days\")\n",
    "plt.legend(loc='upper left')\n",
    "plt.title('Stock Price Prediction-DAE-GRUSA Model')\n",
    "plt.show()"
   ]
  },
  {
   "cell_type": "code",
   "execution_count": 189,
   "metadata": {},
   "outputs": [],
   "source": [
    "# # calculate root mean squared error\n",
    "# trainScore = math.sqrt(mean_squared_error(trainY, trainPredict))\n",
    "# print('Train Score: %.2f RMSE' % (trainScore))\n",
    "# testScore = math.sqrt(mean_squared_error(testY, testPredict))\n",
    "# print('Test Score: %.2f RMSE' % (testScore))"
   ]
  },
  {
   "cell_type": "code",
   "execution_count": 190,
   "metadata": {},
   "outputs": [
    {
     "name": "stdout",
     "output_type": "stream",
     "text": [
      "Train Score: 0.51 RMSE\n",
      "Test Score: 0.95 RMSE\n"
     ]
    }
   ],
   "source": [
    "# calculate root mean squared error\n",
    "trainScore = math.sqrt(mean_squared_error(trainY[:,:-1], trainPredict[:,:-1]))\n",
    "print('Train Score: %.2f RMSE' % (trainScore))\n",
    "testScore = math.sqrt(mean_squared_error(testY[:,:-1], testPredict[:,:-1]))\n",
    "print('Test Score: %.2f RMSE' % (testScore))"
   ]
  },
  {
   "cell_type": "code",
   "execution_count": 191,
   "metadata": {},
   "outputs": [],
   "source": [
    "# shift train predictions for plotting\n",
    "trainPredictPlot = np.empty_like(dataset)\n",
    "trainPredictPlot[:, :] = np.nan\n",
    "trainPredictPlot[look_back:len(trainPredict)+look_back, :] = trainPredict"
   ]
  },
  {
   "cell_type": "code",
   "execution_count": 192,
   "metadata": {},
   "outputs": [],
   "source": [
    "# shift test predictions for plotting\n",
    "testPredictPlot = np.empty_like(dataset)\n",
    "testPredictPlot[:, :] = np.nan\n",
    "testPredictPlot[len(trainPredict)+(look_back*2):len(dataset), :] = testPredict"
   ]
  },
  {
   "cell_type": "code",
   "execution_count": 193,
   "metadata": {},
   "outputs": [
    {
     "data": {
      "image/png": "[encoded data removed]",
      "text/plain": [
       "<Figure size 432x288 with 1 Axes>"
      ]
     },
     "metadata": {
      "needs_background": "light"
     },
     "output_type": "display_data"
    }
   ],
   "source": [
    "# plot baseline and predictions\n",
    "plt.plot(scaler.inverse_transform(dataset))\n",
    "plt.plot(trainPredictPlot)\n",
    "plt.plot(testPredictPlot)\n",
    "plt.show()"
   ]
  },
  {
   "cell_type": "code",
   "execution_count": 194,
   "metadata": {},
   "outputs": [
    {
     "name": "stdout",
     "output_type": "stream",
     "text": [
      "[56.04495    56.52714    55.334835   56.07654     0.96514976]\n",
      "[1. 1. 1. 1. 1.]\n"
     ]
    }
   ],
   "source": [
    "# PREDICT FUTURE VALUES\n",
    "last_val = testPredict[-1,:]\n",
    "print(last_val)\n",
    "last_val_scaled = last_val/last_val\n",
    "print(last_val_scaled)\n"
   ]
  },
  {
   "cell_type": "code",
   "execution_count": 195,
   "metadata": {},
   "outputs": [
    {
     "name": "stdout",
     "output_type": "stream",
     "text": [
      "(1, 2, 5)\n",
      "[[0.9282428  0.92399186 0.92753553 0.92976964 0.9509996 ]]\n"
     ]
    }
   ],
   "source": [
    "yy = yhat[-2:,:]\n",
    "yy=yy.reshape((-1,2,5))\n",
    "print(np.shape(yy))\n",
    "#print(yy)\n",
    "nexty = model.predict(yy)\n",
    "print(nexty)"
   ]
  },
  {
   "cell_type": "code",
   "execution_count": 196,
   "metadata": {},
   "outputs": [
    {
     "name": "stdout",
     "output_type": "stream",
     "text": [
      "[[54.657547  55.226635  54.07198   54.798744   0.9509996]]\n"
     ]
    }
   ],
   "source": [
    "actualnexty = scaler.inverse_transform(nexty)\n",
    "print(actualnexty)"
   ]
  },
  {
   "cell_type": "code",
   "execution_count": 197,
   "metadata": {},
   "outputs": [
    {
     "name": "stdout",
     "output_type": "stream",
     "text": [
      "[54.65754699707031, 55.22663497924805, 54.07197952270508, 54.798744201660156, 0.9509996175765991]\n",
      "[54.510013580322266, 55.086204528808594, 53.9129753112793, 54.61867141723633, 0.9511972069740295]\n",
      "[53.81081771850586, 54.371150970458984, 53.2236213684082, 53.9281005859375, 0.9517579674720764]\n",
      "[53.41809844970703, 53.97490310668945, 52.830928802490234, 53.526126861572266, 0.9520919322967529]\n"
     ]
    }
   ],
   "source": [
    "period = 4\n",
    "yresult = []\n",
    "yy = yhat[-2:,:]\n",
    "#yy=yy.reshape((-1,2,4))\n",
    "for i in range(period):\n",
    "    yy=yy.reshape((-1,2,5))\n",
    "    nexty = model.predict(yy)\n",
    "    #print(nexty)\n",
    "    actualnexty = scaler.inverse_transform(nexty)\n",
    "    #print(actualnexty)\n",
    "    yresult.append(actualnexty[0].tolist())\n",
    "    yy = yy[0]\n",
    "    #print(yy)\n",
    "    yy=np.delete(yy,0,axis=0)\n",
    "    #print(ary)\n",
    "    yy=np.insert(yy,1,nexty[0],axis=0)\n",
    "    #print(yy)\n",
    "for y in yresult:\n",
    "    print(y)"
   ]
  },
  {
   "cell_type": "code",
   "execution_count": 198,
   "metadata": {},
   "outputs": [
    {
     "name": "stdout",
     "output_type": "stream",
     "text": [
      "0.33787784\n",
      "0.64704835\n"
     ]
    }
   ],
   "source": [
    "from sklearn.metrics import mean_absolute_error\n",
    "Train_MAE = mean_absolute_error(trainY[:,:-1], trainPredict[:,:-1])\n",
    "print(Train_MAE)\n",
    "Test_MAE = mean_absolute_error(testY[:,:-1], testPredict[:,:-1])\n",
    "print(Test_MAE)"
   ]
  },
  {
   "cell_type": "code",
   "execution_count": 199,
   "metadata": {},
   "outputs": [
    {
     "name": "stdout",
     "output_type": "stream",
     "text": [
      "0.996251591737057\n",
      "0.9825007640579932\n"
     ]
    }
   ],
   "source": [
    "from sklearn.metrics import r2_score\n",
    "Train_R2 = r2_score(trainY[:,:-1], trainPredict[:,:-1])\n",
    "print(Train_R2)\n",
    "Test_R2 = r2_score(testY[:,:-1], testPredict[:,:-1])\n",
    "print(Test_R2)"
   ]
  },
  {
   "cell_type": "code",
   "execution_count": 200,
   "metadata": {},
   "outputs": [],
   "source": [
    "#from sklearn.metrics import accuracy_score\n",
    "#print(accuracy_score(testY, testPredict))"
   ]
  },
  {
   "cell_type": "code",
   "execution_count": 201,
   "metadata": {},
   "outputs": [
    {
     "name": "stdout",
     "output_type": "stream",
     "text": [
      "1.1094236746430397\n"
     ]
    }
   ],
   "source": [
    "import numpy as np\n",
    "\n",
    "def mean_absolute_percentage_error_train(trainY, trainPredict): \n",
    "    trainY, trainPredict = np.array(trainY[:,:-1]), np.array(trainPredict[:,:-1])\n",
    "    return np.mean(np.abs((trainY[:,:-1] - trainPredict[:,:-1]) / trainY[:,:-1])) * 100\n",
    "print(mean_absolute_percentage_error_train(trainY[:,:-1], trainPredict[:,:-1]))"
   ]
  },
  {
   "cell_type": "code",
   "execution_count": 202,
   "metadata": {},
   "outputs": [
    {
     "name": "stdout",
     "output_type": "stream",
     "text": [
      "2.091904915869236\n"
     ]
    }
   ],
   "source": [
    "import numpy as np\n",
    "\n",
    "def mean_absolute_percentage_error_test(testY, testPredict): \n",
    "    testY, testPredict = np.array(testY[:,:-1]), np.array(testPredict[:,:-1])\n",
    "    return np.mean(np.abs((testY[:,:-1] - testPredict[:,:-1]) / testY[:,:-1])) * 100\n",
    "print(mean_absolute_percentage_error_test(testY[:,:-1], testPredict[:,:-1]))"
   ]
  },
  {
   "cell_type": "code",
   "execution_count": null,
   "metadata": {},
   "outputs": [],
   "source": []
  },
  {
   "cell_type": "code",
   "execution_count": null,
   "metadata": {},
   "outputs": [],
   "source": []
  }
 ],
 "metadata": {
  "kernelspec": {
   "display_name": "Python 3",
   "language": "python",
   "name": "python3"
  },
  "language_info": {
   "codemirror_mode": {
    "name": "ipython",
    "version": 3
   },
   "file_extension": ".py",
   "mimetype": "text/x-python",
   "name": "python",
   "nbconvert_exporter": "python",
   "pygments_lexer": "ipython3",
   "version": "3.6.8"
  }
 },
 "nbformat": 4,
 "nbformat_minor": 2
}
