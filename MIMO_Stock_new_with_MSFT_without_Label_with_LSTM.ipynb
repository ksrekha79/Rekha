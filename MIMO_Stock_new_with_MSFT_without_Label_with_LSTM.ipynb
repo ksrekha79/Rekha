{
 "cells": [
  {
   "cell_type": "code",
   "execution_count": 68,
   "metadata": {},
   "outputs": [],
   "source": [
    "# multivariate output data prep\n",
    "import pandas as pd\n",
    "import matplotlib.pyplot as plt\n",
    "import numpy as np \n",
    "import math\n",
    "from sklearn.preprocessing import MinMaxScaler\n",
    "from sklearn.metrics import mean_squared_error\n",
    "from keras.models import Sequential\n",
    "from keras.layers import Dense, Activation, Dropout\n",
    "from keras.layers import LSTM\n",
    "from keras.callbacks import TensorBoard, EarlyStopping, ModelCheckpoint\n",
    "#import preprocessing"
   ]
  },
  {
   "cell_type": "code",
   "execution_count": 69,
   "metadata": {},
   "outputs": [],
   "source": [
    "np.random.seed(7)"
   ]
  },
  {
   "cell_type": "code",
   "execution_count": 70,
   "metadata": {},
   "outputs": [
    {
     "name": "stdout",
     "output_type": "stream",
     "text": [
      "           Open       High        Low      Close\n",
      "4150  51.286648  51.855648  50.729305  51.301525\n",
      "4149  50.794872  51.421833  50.318756  50.947674\n",
      "4148  50.077830  50.714893  49.619500  50.261810\n",
      "4147  48.970596  49.588543  48.528996  49.148100\n",
      "4146  48.707577  49.233883  48.141827  48.621273\n",
      "4145  49.977596  50.561210  49.408546  49.973087\n",
      "4144  51.435030  52.087368  50.964630  51.622590\n",
      "4143  51.163000  51.717495  50.603836  51.160260\n",
      "4142  50.496098  51.175920  50.051582  50.743553\n",
      "4141  50.477886  51.001820  49.880820  50.379395\n",
      "4140  50.214535  50.765488  49.677475  50.211900\n",
      "4139  49.767124  50.418713  49.330270  49.997025\n",
      "4138  49.869860  50.406700  49.325650  49.866394\n",
      "4137  49.853405  50.408770  49.331833  49.882534\n",
      "4136  49.637104  50.300713  49.168870  49.810375\n",
      "4135  51.308537  51.930440  50.787857  51.413754\n",
      "4134  51.839962  52.389340  51.266838  51.805050\n",
      "4133  52.102272  52.682330  51.549057  52.131557\n",
      "4132  52.345060  52.909073  51.758290  52.321526\n",
      "4131  52.079327  52.668346  51.547546  52.144405\n",
      "4130  52.113834  52.663116  51.512512  52.032380\n",
      "4129  52.370290  52.976820  51.833126  52.414314\n",
      "4128  52.601368  53.223507  52.093980  52.730392\n",
      "4127  52.388912  53.064857  51.926987  52.611168\n",
      "4126  51.990640  52.614850  51.501730  52.134605\n",
      "4125  51.748080  52.343080  51.230515  51.813710\n",
      "4124  52.039547  52.642128  51.505917  52.111786\n",
      "4123  50.836190  51.524048  50.397198  51.087350\n",
      "4122  50.409630  50.931440  49.820800  50.319790\n",
      "4121  50.656506  51.236830  50.115288  50.696350\n",
      "...         ...        ...        ...        ...\n",
      "29    50.262840  50.795715  49.646110  50.125675\n",
      "28    51.269460  51.749653  50.463760  50.785583\n",
      "27    51.984600  52.737057  51.548782  52.285522\n",
      "26    53.600826  54.068752  52.725586  53.036842\n",
      "25    53.681710  54.474255  53.266083  54.075424\n",
      "24    52.908573  53.565792  52.401360  53.012740\n",
      "23    52.574260  53.307270  52.090958  52.823640\n",
      "22    50.886340  51.615240  50.453297  51.150333\n",
      "21    51.022583  51.563374  50.359985  50.843980\n",
      "20    49.674810  50.509150  49.338036  50.169815\n",
      "19    48.314137  48.961967  47.880882  48.474420\n",
      "18    49.148136  49.738514  48.605690  49.171394\n",
      "17    49.564690  50.145267  48.978990  49.490760\n",
      "16    50.684624  51.185757  49.952244  50.356346\n",
      "15    50.543070  51.270927  50.099205  50.802000\n",
      "14    51.521700  52.058180  50.788780  51.232650\n",
      "13    52.788120  53.309177  52.052692  52.473694\n",
      "12    53.620182  54.203900  52.923126  53.463127\n",
      "11    54.457294  55.018660  53.675610  54.110687\n",
      "10    56.465405  57.307053  55.988810  56.847454\n",
      "9     54.084770  55.045433  53.694090  54.648050\n",
      "8     52.093277  52.980114  51.717680  52.561592\n",
      "7     53.478184  54.054157  52.783726  53.255680\n",
      "6     55.505970  56.111870  54.732850  55.247547\n",
      "5     56.367370  56.982815  55.724327  56.298298\n",
      "4     54.480465  55.301280  54.033516  54.843200\n",
      "3     55.515903  56.147076  54.792810  55.318428\n",
      "2     55.800102  56.667484  55.293945  56.119774\n",
      "1     56.947100  57.588123  56.196785  56.784935\n",
      "0     57.708214  58.503117  57.120476  57.788376\n",
      "\n",
      "[4151 rows x 4 columns]\n"
     ]
    }
   ],
   "source": [
    "# IMPORTING DATASET \n",
    "#dataset = pd.read_csv('apple_share_price.csv', usecols=[1,2,3,4])\n",
    "#dataset = pd.read_csv('Stock_with_label.csv', usecols=[1,2,3,4,5])\n",
    "#dataset = pd.read_csv('Stock_without_label.csv', usecols=[1,2,3,4])\n",
    "#dataset = pd.read_csv('AE_MSFT_SA.csv', usecols=[1,2,3,4])\n",
    "dataset = pd.read_csv('Stock_new_with_AELabel.csv', usecols=[1,2,3,4])\n",
    "dataset = dataset.reindex(index = dataset.index[::-1])\n",
    "print(dataset)\n",
    "dataset.shape\n",
    "dataset = dataset.values #return the numpy representation of the given DataFrame.\n",
    "dataset = dataset.astype('float32')"
   ]
  },
  {
   "cell_type": "code",
   "execution_count": 71,
   "metadata": {},
   "outputs": [],
   "source": [
    "# normalize the dataset\n",
    "scaler = MinMaxScaler(feature_range=(0, 1))\n",
    "dataset = scaler.fit_transform(dataset)"
   ]
  },
  {
   "cell_type": "code",
   "execution_count": 72,
   "metadata": {},
   "outputs": [
    {
     "name": "stdout",
     "output_type": "stream",
     "text": [
      "(3320, 4)\n",
      "(831, 4)\n"
     ]
    }
   ],
   "source": [
    "# split into train and test sets\n",
    "train_size = int(len(dataset) * 0.80) #1114\n",
    "test_size = len(dataset) - train_size #550\n",
    "train, test = dataset[0:train_size,:], dataset[train_size:len(dataset),:]\n",
    "print(train.shape) # (1114,4)\n",
    "print(test.shape) #(550,4)"
   ]
  },
  {
   "cell_type": "code",
   "execution_count": 73,
   "metadata": {},
   "outputs": [],
   "source": [
    "# # split into train and test sets\n",
    "# train_size = int(len(dataset) * 0.67) #1114\n",
    "# test_size = len(dataset) - train_size #550\n",
    "# train, test = dataset[0:train_size,:], dataset[train_size:len(dataset),:]\n",
    "# print(train.shape) # (1114,4)\n",
    "# print(test.shape) #(550,4)"
   ]
  },
  {
   "cell_type": "code",
   "execution_count": 74,
   "metadata": {},
   "outputs": [],
   "source": [
    "# split a multivariate sequence into samples\n",
    "def create_dataset(sequences, n_steps):\n",
    "    X, y = list(), list()\n",
    "    for i in range(len(sequences)):\n",
    "        # find the end of this pattern\n",
    "        end_ix = i + n_steps\n",
    "        # check if we are beyond the dataset\n",
    "        if end_ix > len(sequences)-1:\n",
    "            break\n",
    "        # gather input and output parts of the pattern\n",
    "        seq_x, seq_y = sequences[i:end_ix, :], sequences[end_ix, :]\n",
    "        X.append(seq_x)\n",
    "        y.append(seq_y)\n",
    "    return np.array(X), np.array(y)"
   ]
  },
  {
   "cell_type": "code",
   "execution_count": 75,
   "metadata": {},
   "outputs": [
    {
     "name": "stdout",
     "output_type": "stream",
     "text": [
      "(3318, 2, 4)\n",
      "(3318, 4)\n",
      "(829, 2, 4)\n",
      "(829, 4)\n"
     ]
    }
   ],
   "source": [
    "# reshape into X=t and Y=t+1\n",
    "look_back = 2\n",
    "trainX, trainY = create_dataset(train, look_back)\n",
    "testX, testY = create_dataset(test, look_back)\n",
    "print(trainX.shape)\n",
    "print(trainY.shape)\n",
    "print(testX.shape)\n",
    "print(testY.shape)"
   ]
  },
  {
   "cell_type": "code",
   "execution_count": 76,
   "metadata": {},
   "outputs": [
    {
     "name": "stdout",
     "output_type": "stream",
     "text": [
      "[[[0.8489531  0.8457913  0.84807825 0.84761524]\n",
      "  [0.8373858  0.83572763 0.8383192  0.8393028 ]]\n",
      "\n",
      " [[0.8373858  0.83572763 0.8383192  0.8393028 ]\n",
      "  [0.8205197  0.8193279  0.8216975  0.8231909 ]]\n",
      "\n",
      " [[0.8205197  0.8193279  0.8216975  0.8231909 ]\n",
      "  [0.79447544 0.79319876 0.79577565 0.7970284 ]]\n",
      "\n",
      " ...\n",
      "\n",
      " [[0.24859288 0.24853367 0.24934924 0.25057587]\n",
      "  [0.24355283 0.24300146 0.24392658 0.24442449]]\n",
      "\n",
      " [[0.24355283 0.24300146 0.24392658 0.24442449]\n",
      "  [0.24391821 0.24283206 0.24368459 0.2433097 ]]\n",
      "\n",
      " [[0.24391821 0.24283206 0.24368459 0.2433097 ]\n",
      "  [0.25204095 0.25063825 0.25140113 0.25090614]]]\n"
     ]
    }
   ],
   "source": [
    "print(trainX)"
   ]
  },
  {
   "cell_type": "code",
   "execution_count": 77,
   "metadata": {},
   "outputs": [
    {
     "name": "stdout",
     "output_type": "stream",
     "text": [
      "[[0.8205197  0.8193279  0.8216975  0.8231909 ]\n",
      " [0.79447544 0.79319876 0.79577565 0.7970284 ]\n",
      " [0.78828883 0.7849713  0.78657234 0.7846526 ]\n",
      " ...\n",
      " [0.24391821 0.24283206 0.24368459 0.2433097 ]\n",
      " [0.25204095 0.25063825 0.25140113 0.25090614]\n",
      " [0.24215457 0.24182087 0.24272531 0.24364665]]\n"
     ]
    }
   ],
   "source": [
    "print(trainY)"
   ]
  },
  {
   "cell_type": "code",
   "execution_count": 78,
   "metadata": {},
   "outputs": [
    {
     "name": "stdout",
     "output_type": "stream",
     "text": [
      "[[[0.23863992 0.2371884  0.23801339 0.2375786 ]\n",
      "  [0.24174109 0.24058688 0.24170303 0.24163404]]\n",
      "\n",
      " [[0.24174109 0.24058688 0.24170303 0.24163404]\n",
      "  [0.24686947 0.24580878 0.24679685 0.24668702]]\n",
      "\n",
      " [[0.24686947 0.24580878 0.24679685 0.24668702]\n",
      "  [0.23611161 0.23654193 0.23743218 0.23913512]]\n",
      "\n",
      " ...\n",
      "\n",
      " [[0.9240775  0.9257235  0.9266212  0.9308139 ]\n",
      "  [0.9484328  0.9453444  0.94466996 0.94197774]]\n",
      "\n",
      " [[0.9484328  0.9453444  0.94466996 0.94197774]\n",
      "  [0.9551177  0.95741683 0.9565823  0.9608023 ]]\n",
      "\n",
      " [[0.9551177  0.95741683 0.9565823  0.9608023 ]\n",
      "  [0.98209715 0.9787739  0.9780433  0.9764279 ]]]\n"
     ]
    }
   ],
   "source": [
    "print(testX)"
   ]
  },
  {
   "cell_type": "code",
   "execution_count": 79,
   "metadata": {},
   "outputs": [
    {
     "name": "stdout",
     "output_type": "stream",
     "text": [
      "[[0.24686947 0.24580878 0.24679685 0.24668702]\n",
      " [0.23611161 0.23654193 0.23743218 0.23913512]\n",
      " [0.23994747 0.23823303 0.23908341 0.2380198 ]\n",
      " ...\n",
      " [0.9551177  0.95741683 0.9565823  0.9608023 ]\n",
      " [0.98209715 0.9787739  0.9780433  0.9764279 ]\n",
      " [0.9999999  1.         1.         1.0000001 ]]\n"
     ]
    }
   ],
   "source": [
    "print(testY)"
   ]
  },
  {
   "cell_type": "code",
   "execution_count": 80,
   "metadata": {},
   "outputs": [
    {
     "name": "stdout",
     "output_type": "stream",
     "text": [
      "_________________________________________________________________\n",
      "Layer (type)                 Output Shape              Param #   \n",
      "=================================================================\n",
      "lstm_3 (LSTM)                (None, 2, 100)            42000     \n",
      "_________________________________________________________________\n",
      "lstm_4 (LSTM)                (None, 256)               365568    \n",
      "_________________________________________________________________\n",
      "dropout_2 (Dropout)          (None, 256)               0         \n",
      "_________________________________________________________________\n",
      "dense_2 (Dense)              (None, 4)                 1028      \n",
      "=================================================================\n",
      "Total params: 408,596\n",
      "Trainable params: 408,596\n",
      "Non-trainable params: 0\n",
      "_________________________________________________________________\n"
     ]
    }
   ],
   "source": [
    "from keras.models import Sequential\n",
    "from keras.layers import Dense\n",
    "from keras.layers import LSTM\n",
    "from sklearn.preprocessing import MinMaxScaler\n",
    "from sklearn.metrics import mean_squared_error\n",
    "from keras.utils.vis_utils import plot_model\n",
    "# define model\n",
    "n_features = trainX.shape[2]\n",
    "model = Sequential()\n",
    "model.add(LSTM(100, activation='relu', return_sequences=True, input_shape=(look_back, n_features)))\n",
    "model.add(LSTM(256, activation='relu'))\n",
    "model.add(Dropout(0.2))\n",
    "#model.add(LSTM(100, activation='relu'))\n",
    "model.add(Dense(n_features))\n",
    "model.compile(optimizer='sgd', loss='mae')\n",
    "model.summary()\n",
    "plot_model(model, to_file='model_plot.png', show_shapes=True, show_layer_names=True)"
   ]
  },
  {
   "cell_type": "code",
   "execution_count": 81,
   "metadata": {},
   "outputs": [],
   "source": [
    "#tensorboard = TensorBoard(log_dir='./logs/run1/', write_graph=True, write_images=False)\n",
    "#tensorboard = TensorBoard(log_dir='/home/user/Python_docs_rks/LSTM_prediction/LSTM_SABU_SIR/SABU_SIR_26-04-2020/logs/run1/',write_graph=True, write_images=False)\n",
    "#early_stop = EarlyStopping(monitor='val_loss', min_delta=0, patience=100, verbose=1, mode=min)\n",
    "#model_file = \"/home/sabu/Desktop/weights/best_model.hdf5\"\n",
    "#model_file = \"/home/user/Python_docs_rks/LSTM_prediction/LSTM_SABU_SIR/weights/best_model.hdf5\"\n",
    "#checkpoint = ModelCheckpoint(model_file, monitor='val_loss', verbose=1, save_best_only=True, mode='min')"
   ]
  },
  {
   "cell_type": "code",
   "execution_count": 82,
   "metadata": {},
   "outputs": [
    {
     "name": "stdout",
     "output_type": "stream",
     "text": [
      "Train on 3318 samples, validate on 829 samples\n",
      "Epoch 1/100\n",
      " - 3s - loss: 0.2388 - val_loss: 0.1440\n",
      "Epoch 2/100\n",
      " - 2s - loss: 0.1312 - val_loss: 0.1256\n",
      "Epoch 3/100\n",
      " - 2s - loss: 0.1289 - val_loss: 0.1243\n",
      "Epoch 4/100\n",
      " - 2s - loss: 0.1285 - val_loss: 0.1239\n",
      "Epoch 5/100\n",
      " - 2s - loss: 0.1283 - val_loss: 0.1244\n",
      "Epoch 6/100\n",
      " - 2s - loss: 0.1281 - val_loss: 0.1237\n",
      "Epoch 7/100\n",
      " - 2s - loss: 0.1278 - val_loss: 0.1236\n",
      "Epoch 8/100\n",
      " - 2s - loss: 0.1274 - val_loss: 0.1234\n",
      "Epoch 9/100\n",
      " - 2s - loss: 0.1274 - val_loss: 0.1232\n",
      "Epoch 10/100\n",
      " - 2s - loss: 0.1271 - val_loss: 0.1227\n",
      "Epoch 11/100\n",
      " - 2s - loss: 0.1269 - val_loss: 0.1225\n",
      "Epoch 12/100\n",
      " - 2s - loss: 0.1266 - val_loss: 0.1223\n",
      "Epoch 13/100\n",
      " - 2s - loss: 0.1264 - val_loss: 0.1224\n",
      "Epoch 14/100\n",
      " - 2s - loss: 0.1261 - val_loss: 0.1218\n",
      "Epoch 15/100\n",
      " - 2s - loss: 0.1258 - val_loss: 0.1214\n",
      "Epoch 16/100\n",
      " - 2s - loss: 0.1256 - val_loss: 0.1215\n",
      "Epoch 17/100\n",
      " - 2s - loss: 0.1252 - val_loss: 0.1202\n",
      "Epoch 18/100\n",
      " - 2s - loss: 0.1248 - val_loss: 0.1212\n",
      "Epoch 19/100\n",
      " - 2s - loss: 0.1245 - val_loss: 0.1200\n",
      "Epoch 20/100\n",
      " - 2s - loss: 0.1242 - val_loss: 0.1197\n",
      "Epoch 21/100\n",
      " - 2s - loss: 0.1238 - val_loss: 0.1200\n",
      "Epoch 22/100\n",
      " - 2s - loss: 0.1234 - val_loss: 0.1186\n",
      "Epoch 23/100\n",
      " - 2s - loss: 0.1229 - val_loss: 0.1186\n",
      "Epoch 24/100\n",
      " - 2s - loss: 0.1225 - val_loss: 0.1188\n",
      "Epoch 25/100\n",
      " - 2s - loss: 0.1219 - val_loss: 0.1179\n",
      "Epoch 26/100\n",
      " - 2s - loss: 0.1213 - val_loss: 0.1173\n",
      "Epoch 27/100\n",
      " - 2s - loss: 0.1208 - val_loss: 0.1167\n",
      "Epoch 28/100\n",
      " - 2s - loss: 0.1202 - val_loss: 0.1160\n",
      "Epoch 29/100\n",
      " - 2s - loss: 0.1196 - val_loss: 0.1153\n",
      "Epoch 30/100\n",
      " - 2s - loss: 0.1189 - val_loss: 0.1148\n",
      "Epoch 31/100\n",
      " - 2s - loss: 0.1183 - val_loss: 0.1141\n",
      "Epoch 32/100\n",
      " - 2s - loss: 0.1174 - val_loss: 0.1136\n",
      "Epoch 33/100\n",
      " - 2s - loss: 0.1165 - val_loss: 0.1117\n",
      "Epoch 34/100\n",
      " - 2s - loss: 0.1156 - val_loss: 0.1124\n",
      "Epoch 35/100\n",
      " - 2s - loss: 0.1147 - val_loss: 0.1101\n",
      "Epoch 36/100\n",
      " - 2s - loss: 0.1137 - val_loss: 0.1103\n",
      "Epoch 37/100\n",
      " - 2s - loss: 0.1124 - val_loss: 0.1078\n",
      "Epoch 38/100\n",
      " - 2s - loss: 0.1111 - val_loss: 0.1076\n",
      "Epoch 39/100\n",
      " - 2s - loss: 0.1100 - val_loss: 0.1063\n",
      "Epoch 40/100\n",
      " - 2s - loss: 0.1085 - val_loss: 0.1040\n",
      "Epoch 41/100\n",
      " - 2s - loss: 0.1069 - val_loss: 0.1027\n",
      "Epoch 42/100\n",
      " - 2s - loss: 0.1050 - val_loss: 0.1007\n",
      "Epoch 43/100\n",
      " - 2s - loss: 0.1034 - val_loss: 0.0990\n",
      "Epoch 44/100\n",
      " - 2s - loss: 0.1014 - val_loss: 0.0968\n",
      "Epoch 45/100\n",
      " - 2s - loss: 0.0990 - val_loss: 0.0939\n",
      "Epoch 46/100\n",
      " - 2s - loss: 0.0966 - val_loss: 0.0928\n",
      "Epoch 47/100\n",
      " - 2s - loss: 0.0937 - val_loss: 0.0901\n",
      "Epoch 48/100\n",
      " - 2s - loss: 0.0909 - val_loss: 0.0857\n",
      "Epoch 49/100\n",
      " - 2s - loss: 0.0874 - val_loss: 0.0824\n",
      "Epoch 50/100\n",
      " - 2s - loss: 0.0838 - val_loss: 0.0788\n",
      "Epoch 51/100\n",
      " - 2s - loss: 0.0797 - val_loss: 0.0752\n",
      "Epoch 52/100\n",
      " - 2s - loss: 0.0752 - val_loss: 0.0701\n",
      "Epoch 53/100\n",
      " - 2s - loss: 0.0696 - val_loss: 0.0653\n",
      "Epoch 54/100\n",
      " - 2s - loss: 0.0643 - val_loss: 0.0583\n",
      "Epoch 55/100\n",
      " - 2s - loss: 0.0586 - val_loss: 0.0524\n",
      "Epoch 56/100\n",
      " - 2s - loss: 0.0517 - val_loss: 0.0457\n",
      "Epoch 57/100\n",
      " - 2s - loss: 0.0437 - val_loss: 0.0374\n",
      "Epoch 58/100\n",
      " - 2s - loss: 0.0364 - val_loss: 0.0297\n",
      "Epoch 59/100\n",
      " - 2s - loss: 0.0291 - val_loss: 0.0241\n",
      "Epoch 60/100\n",
      " - 2s - loss: 0.0247 - val_loss: 0.0196\n",
      "Epoch 61/100\n",
      " - 2s - loss: 0.0223 - val_loss: 0.0186\n",
      "Epoch 62/100\n",
      " - 2s - loss: 0.0215 - val_loss: 0.0178\n",
      "Epoch 63/100\n",
      " - 2s - loss: 0.0208 - val_loss: 0.0166\n",
      "Epoch 64/100\n",
      " - 2s - loss: 0.0208 - val_loss: 0.0169\n",
      "Epoch 65/100\n",
      " - 2s - loss: 0.0204 - val_loss: 0.0166\n",
      "Epoch 66/100\n",
      " - 2s - loss: 0.0201 - val_loss: 0.0168\n",
      "Epoch 67/100\n",
      " - 2s - loss: 0.0199 - val_loss: 0.0168\n",
      "Epoch 68/100\n",
      " - 2s - loss: 0.0200 - val_loss: 0.0167\n",
      "Epoch 69/100\n",
      " - 3s - loss: 0.0196 - val_loss: 0.0167\n",
      "Epoch 70/100\n",
      " - 3s - loss: 0.0194 - val_loss: 0.0167\n",
      "Epoch 71/100\n",
      " - 2s - loss: 0.0194 - val_loss: 0.0168\n",
      "Epoch 72/100\n",
      " - 2s - loss: 0.0194 - val_loss: 0.0168\n",
      "Epoch 73/100\n",
      " - 2s - loss: 0.0192 - val_loss: 0.0168\n",
      "Epoch 74/100\n",
      " - 2s - loss: 0.0194 - val_loss: 0.0168\n",
      "Epoch 75/100\n",
      " - 2s - loss: 0.0194 - val_loss: 0.0166\n",
      "Epoch 76/100\n",
      " - 2s - loss: 0.0191 - val_loss: 0.0169\n",
      "Epoch 77/100\n",
      " - 2s - loss: 0.0191 - val_loss: 0.0165\n",
      "Epoch 78/100\n",
      " - 2s - loss: 0.0188 - val_loss: 0.0169\n",
      "Epoch 79/100\n",
      " - 2s - loss: 0.0190 - val_loss: 0.0165\n",
      "Epoch 80/100\n",
      " - 2s - loss: 0.0188 - val_loss: 0.0165\n",
      "Epoch 81/100\n",
      " - 2s - loss: 0.0188 - val_loss: 0.0170\n",
      "Epoch 82/100\n",
      " - 2s - loss: 0.0186 - val_loss: 0.0170\n",
      "Epoch 83/100\n",
      " - 2s - loss: 0.0184 - val_loss: 0.0168\n",
      "Epoch 84/100\n",
      " - 2s - loss: 0.0186 - val_loss: 0.0167\n",
      "Epoch 85/100\n",
      " - 2s - loss: 0.0185 - val_loss: 0.0165\n",
      "Epoch 86/100\n",
      " - 2s - loss: 0.0182 - val_loss: 0.0168\n",
      "Epoch 87/100\n",
      " - 2s - loss: 0.0183 - val_loss: 0.0164\n",
      "Epoch 88/100\n",
      " - 2s - loss: 0.0186 - val_loss: 0.0167\n",
      "Epoch 89/100\n",
      " - 2s - loss: 0.0185 - val_loss: 0.0168\n",
      "Epoch 90/100\n",
      " - 2s - loss: 0.0185 - val_loss: 0.0169\n",
      "Epoch 91/100\n",
      " - 2s - loss: 0.0183 - val_loss: 0.0165\n",
      "Epoch 92/100\n",
      " - 2s - loss: 0.0179 - val_loss: 0.0164\n",
      "Epoch 93/100\n",
      " - 2s - loss: 0.0182 - val_loss: 0.0165\n",
      "Epoch 94/100\n",
      " - 2s - loss: 0.0185 - val_loss: 0.0165\n",
      "Epoch 95/100\n",
      " - 2s - loss: 0.0182 - val_loss: 0.0166\n",
      "Epoch 96/100\n",
      " - 2s - loss: 0.0181 - val_loss: 0.0166\n",
      "Epoch 97/100\n",
      " - 2s - loss: 0.0181 - val_loss: 0.0164\n",
      "Epoch 98/100\n",
      " - 2s - loss: 0.0179 - val_loss: 0.0166\n",
      "Epoch 99/100\n",
      " - 2s - loss: 0.0180 - val_loss: 0.0164\n",
      "Epoch 100/100\n",
      " - 2s - loss: 0.0179 - val_loss: 0.0168\n"
     ]
    }
   ],
   "source": [
    "history = model.fit(trainX, trainY, validation_data=(testX, testY), epochs=100, batch_size=32, verbose=2)#, callbacks=[tensorboard, early_stop, checkpoint])"
   ]
  },
  {
   "cell_type": "code",
   "execution_count": 83,
   "metadata": {},
   "outputs": [
    {
     "name": "stdout",
     "output_type": "stream",
     "text": [
      "dict_keys(['val_loss', 'loss'])\n"
     ]
    }
   ],
   "source": [
    "history_dict = history.history\n",
    "loss = history_dict['loss']\n",
    "#val_loss = history_dict['val_loss']\n",
    "print(history_dict.keys())"
   ]
  },
  {
   "cell_type": "code",
   "execution_count": 84,
   "metadata": {},
   "outputs": [
    {
     "name": "stderr",
     "output_type": "stream",
     "text": [
      "No handles with labels found to put in legend.\n"
     ]
    },
    {
     "data": {
      "image/png": "[encoded data removed]",
      "text/plain": [
       "<Figure size 432x288 with 1 Axes>"
      ]
     },
     "metadata": {
      "needs_background": "light"
     },
     "output_type": "display_data"
    }
   ],
   "source": [
    "import matplotlib\n",
    "#plt.plot(ae.history.history['val_loss'], 'r', ae.history.history['loss'], 'b')\n",
    "plt.plot(model.history.history['val_loss'], 'r',model.history.history['loss'], 'b')\n",
    "plt.xlabel('Epochs')\n",
    "plt.ylabel('Loss')\n",
    "plt.title('Training and validation loss')\n",
    "plt.legend()\n",
    "plt.show()"
   ]
  },
  {
   "cell_type": "code",
   "execution_count": 85,
   "metadata": {},
   "outputs": [
    {
     "name": "stdout",
     "output_type": "stream",
     "text": [
      "829/829 [==============================] - 0s 156us/step\n",
      "[[0.23721106 0.2365573  0.2357122  0.23687667]\n",
      " [0.24120685 0.24055623 0.2399092  0.24093322]\n",
      " [0.23994999 0.23934063 0.23857346 0.23958018]\n",
      " ...\n",
      " [0.9301814  0.9288958  0.9188546  0.9282677 ]\n",
      " [0.9467907  0.9454047  0.93468404 0.9447129 ]\n",
      " [0.9636935  0.9621351  0.9507563  0.9613954 ]]\n"
     ]
    }
   ],
   "source": [
    "trainPredict = model.predict(trainX)\n",
    "yhat = model.predict(testX, verbose=1)\n",
    "print(yhat)"
   ]
  },
  {
   "cell_type": "code",
   "execution_count": 86,
   "metadata": {},
   "outputs": [],
   "source": [
    "# invert predictions\n",
    "trainPredict = scaler.inverse_transform(trainPredict)\n",
    "trainY = scaler.inverse_transform(trainY)\n",
    "testPredict = scaler.inverse_transform(yhat)\n",
    "testY = scaler.inverse_transform(testY)"
   ]
  },
  {
   "cell_type": "code",
   "execution_count": 87,
   "metadata": {},
   "outputs": [
    {
     "name": "stdout",
     "output_type": "stream",
     "text": [
      "[[50.742146 51.404583 49.913265 50.760685]\n",
      " [50.194378 50.85063  49.390594 50.213108]\n",
      " [49.308857 49.955437 48.54619  49.33093 ]\n",
      " ...\n",
      " [25.570509 25.890545 25.270025 25.59642 ]\n",
      " [25.443787 25.76115  25.138613 25.469107]\n",
      " [25.577614 25.89591  25.278065 25.606846]]\n"
     ]
    }
   ],
   "source": [
    "print(trainPredict)"
   ]
  },
  {
   "cell_type": "code",
   "execution_count": 88,
   "metadata": {},
   "outputs": [
    {
     "name": "stdout",
     "output_type": "stream",
     "text": [
      "(3318, 4)\n"
     ]
    }
   ],
   "source": [
    "print(trainPredict.shape)"
   ]
  },
  {
   "cell_type": "code",
   "execution_count": 89,
   "metadata": {},
   "outputs": [
    {
     "name": "stdout",
     "output_type": "stream",
     "text": [
      "[[50.077835 50.714893 49.6195   50.26181 ]\n",
      " [48.970596 49.588547 48.529    49.1481  ]\n",
      " [48.70758  49.233883 48.141827 48.621277]\n",
      " ...\n",
      " [25.564335 25.863918 25.303177 25.576916]\n",
      " [25.909664 26.200418 25.627802 25.900288]\n",
      " [25.489357 25.82033  25.262821 25.59126 ]]\n"
     ]
    }
   ],
   "source": [
    "print(trainY)"
   ]
  },
  {
   "cell_type": "code",
   "execution_count": 90,
   "metadata": {},
   "outputs": [
    {
     "name": "stdout",
     "output_type": "stream",
     "text": [
      "(3318, 4)\n"
     ]
    }
   ],
   "source": [
    "print(trainY.shape)"
   ]
  },
  {
   "cell_type": "code",
   "execution_count": 91,
   "metadata": {},
   "outputs": [
    {
     "name": "stdout",
     "output_type": "stream",
     "text": [
      "[[25.27919  25.593433 24.967787 25.30307 ]\n",
      " [25.449066 25.765814 25.14435  25.475752]\n",
      " [25.39563  25.713411 25.088156 25.418156]\n",
      " ...\n",
      " [54.739964 55.43803  53.706783 54.73481 ]\n",
      " [55.44609  56.149677 54.37271  55.43486 ]\n",
      " [56.164692 56.870876 55.04885  56.14502 ]]\n"
     ]
    }
   ],
   "source": [
    "print(testPredict)"
   ]
  },
  {
   "cell_type": "code",
   "execution_count": 92,
   "metadata": {},
   "outputs": [
    {
     "name": "stdout",
     "output_type": "stream",
     "text": [
      "(829, 4)\n"
     ]
    }
   ],
   "source": [
    "print(testPredict.shape)"
   ]
  },
  {
   "cell_type": "code",
   "execution_count": 93,
   "metadata": {},
   "outputs": [
    {
     "name": "stdout",
     "output_type": "stream",
     "text": [
      "[[25.689804 25.992235 25.434107 25.720686]\n",
      " [25.232447 25.59277  25.040146 25.399208]\n",
      " [25.395525 25.665668 25.109612 25.35173 ]\n",
      " ...\n",
      " [55.800102 56.667484 55.293945 56.11977 ]\n",
      " [56.947098 57.588123 56.196785 56.784935]\n",
      " [57.70821  58.503117 57.120476 57.78838 ]]\n"
     ]
    }
   ],
   "source": [
    "print(testY)"
   ]
  },
  {
   "cell_type": "code",
   "execution_count": 94,
   "metadata": {},
   "outputs": [
    {
     "name": "stdout",
     "output_type": "stream",
     "text": [
      "(829, 4)\n"
     ]
    }
   ],
   "source": [
    "print(testY.shape)"
   ]
  },
  {
   "cell_type": "code",
   "execution_count": 95,
   "metadata": {},
   "outputs": [
    {
     "name": "stdout",
     "output_type": "stream",
     "text": [
      "[[51.286648 51.855648 50.729305 51.301525]\n",
      " [50.794876 51.421833 50.318752 50.947674]\n",
      " [50.077835 50.714893 49.6195   50.26181 ]\n",
      " ...\n",
      " [25.564335 25.863918 25.303177 25.576916]\n",
      " [25.909664 26.200418 25.627802 25.900288]\n",
      " [25.489357 25.82033  25.262821 25.59126 ]]\n"
     ]
    }
   ],
   "source": [
    "original = (scaler.inverse_transform(train))\n",
    "#print(scaler.inverse_transform(train))\n",
    "print(original)"
   ]
  },
  {
   "cell_type": "code",
   "execution_count": 96,
   "metadata": {},
   "outputs": [
    {
     "name": "stdout",
     "output_type": "stream",
     "text": [
      "[[51.286648]\n",
      " [50.794876]\n",
      " [50.077835]\n",
      " ...\n",
      " [25.564335]\n",
      " [25.909664]\n",
      " [25.489357]]\n",
      "(3320, 4)\n"
     ]
    }
   ],
   "source": [
    "Opentrain = original\n",
    "print(Opentrain[:,:1])\n",
    "print(Opentrain.shape)\n"
   ]
  },
  {
   "cell_type": "code",
   "execution_count": 97,
   "metadata": {},
   "outputs": [
    {
     "name": "stdout",
     "output_type": "stream",
     "text": [
      "[[51.855648]\n",
      " [51.421833]\n",
      " [50.714893]\n",
      " ...\n",
      " [25.863918]\n",
      " [26.200418]\n",
      " [25.82033 ]]\n"
     ]
    }
   ],
   "source": [
    "Hightrain = original\n",
    "print(Hightrain[:,1:2])"
   ]
  },
  {
   "cell_type": "code",
   "execution_count": 98,
   "metadata": {},
   "outputs": [
    {
     "name": "stdout",
     "output_type": "stream",
     "text": [
      "[[50.729305]\n",
      " [50.318752]\n",
      " [49.6195  ]\n",
      " ...\n",
      " [25.303177]\n",
      " [25.627802]\n",
      " [25.262821]]\n"
     ]
    }
   ],
   "source": [
    "Lowtrain = original\n",
    "print(Lowtrain[:,2:3])"
   ]
  },
  {
   "cell_type": "code",
   "execution_count": 99,
   "metadata": {},
   "outputs": [
    {
     "name": "stdout",
     "output_type": "stream",
     "text": [
      "[[51.301525]\n",
      " [50.947674]\n",
      " [50.26181 ]\n",
      " ...\n",
      " [25.576916]\n",
      " [25.900288]\n",
      " [25.59126 ]]\n"
     ]
    }
   ],
   "source": [
    "Closetrain = original\n",
    "print(Closetrain[:,3:4])"
   ]
  },
  {
   "cell_type": "code",
   "execution_count": 100,
   "metadata": {},
   "outputs": [
    {
     "name": "stdout",
     "output_type": "stream",
     "text": [
      "[[25.339935 25.620638 25.064596 25.33295 ]\n",
      " [25.471777 25.767136 25.219816 25.505585]\n",
      " [25.689804 25.992235 25.434107 25.720686]\n",
      " ...\n",
      " [55.800102 56.667484 55.293945 56.11977 ]\n",
      " [56.947098 57.588123 56.196785 56.784935]\n",
      " [57.70821  58.503117 57.120476 57.78838 ]]\n",
      "[[25.339935 25.620638 25.064596 25.33295 ]\n",
      " [25.471777 25.767136 25.219816 25.505585]\n",
      " [25.689804 25.992235 25.434107 25.720686]\n",
      " ...\n",
      " [55.800102 56.667484 55.293945 56.11977 ]\n",
      " [56.947098 57.588123 56.196785 56.784935]\n",
      " [57.70821  58.503117 57.120476 57.78838 ]]\n",
      "(831, 4)\n"
     ]
    }
   ],
   "source": [
    "original_test = (scaler.inverse_transform(test))\n",
    "print(scaler.inverse_transform(test))\n",
    "print(original_test)\n",
    "print(original_test.shape)"
   ]
  },
  {
   "cell_type": "code",
   "execution_count": 101,
   "metadata": {},
   "outputs": [
    {
     "name": "stdout",
     "output_type": "stream",
     "text": [
      "(831, 4)\n"
     ]
    }
   ],
   "source": [
    "Opentest = original_test\n",
    "#print(Opentest[:,:1])\n",
    "print(Opentest.shape)"
   ]
  },
  {
   "cell_type": "code",
   "execution_count": 102,
   "metadata": {},
   "outputs": [],
   "source": [
    "Hightest = original_test\n",
    "#print(Hightest[:,1:2])"
   ]
  },
  {
   "cell_type": "code",
   "execution_count": 103,
   "metadata": {},
   "outputs": [],
   "source": [
    "Lowtest = original_test\n",
    "#print(Lowtest[:,2:3])"
   ]
  },
  {
   "cell_type": "code",
   "execution_count": 104,
   "metadata": {},
   "outputs": [],
   "source": [
    "Closetest = original_test\n",
    "#print(Closetest[:,3:4])"
   ]
  },
  {
   "cell_type": "code",
   "execution_count": 105,
   "metadata": {},
   "outputs": [
    {
     "name": "stdout",
     "output_type": "stream",
     "text": [
      "[[50.742146 51.404583 49.913265 50.760685]\n",
      " [50.194378 50.85063  49.390594 50.213108]\n",
      " [49.308857 49.955437 48.54619  49.33093 ]\n",
      " ...\n",
      " [25.570509 25.890545 25.270025 25.59642 ]\n",
      " [25.443787 25.76115  25.138613 25.469107]\n",
      " [25.577614 25.89591  25.278065 25.606846]]\n"
     ]
    }
   ],
   "source": [
    "print(trainPredict)"
   ]
  },
  {
   "cell_type": "code",
   "execution_count": 106,
   "metadata": {},
   "outputs": [
    {
     "name": "stdout",
     "output_type": "stream",
     "text": [
      "[[50.742146]\n",
      " [50.194378]\n",
      " [49.308857]\n",
      " ...\n",
      " [25.570509]\n",
      " [25.443787]\n",
      " [25.577614]]\n"
     ]
    }
   ],
   "source": [
    "OpentrainPredict = trainPredict\n",
    "print(OpentrainPredict[:,:1])"
   ]
  },
  {
   "cell_type": "code",
   "execution_count": 107,
   "metadata": {},
   "outputs": [
    {
     "name": "stdout",
     "output_type": "stream",
     "text": [
      "[[51.404583]\n",
      " [50.85063 ]\n",
      " [49.955437]\n",
      " ...\n",
      " [25.890545]\n",
      " [25.76115 ]\n",
      " [25.89591 ]]\n"
     ]
    }
   ],
   "source": [
    "HightrainPredict = trainPredict\n",
    "print(HightrainPredict[:,1:2])"
   ]
  },
  {
   "cell_type": "code",
   "execution_count": 108,
   "metadata": {},
   "outputs": [
    {
     "name": "stdout",
     "output_type": "stream",
     "text": [
      "[[49.913265]\n",
      " [49.390594]\n",
      " [48.54619 ]\n",
      " ...\n",
      " [25.270025]\n",
      " [25.138613]\n",
      " [25.278065]]\n"
     ]
    }
   ],
   "source": [
    "LowtrainPredict = trainPredict\n",
    "print(LowtrainPredict[:,2:3])"
   ]
  },
  {
   "cell_type": "code",
   "execution_count": 109,
   "metadata": {},
   "outputs": [
    {
     "name": "stdout",
     "output_type": "stream",
     "text": [
      "[[50.760685]\n",
      " [50.213108]\n",
      " [49.33093 ]\n",
      " ...\n",
      " [25.59642 ]\n",
      " [25.469107]\n",
      " [25.606846]]\n"
     ]
    }
   ],
   "source": [
    "ClosetrainPredict = trainPredict\n",
    "print(ClosetrainPredict[:,3:4])"
   ]
  },
  {
   "cell_type": "code",
   "execution_count": 110,
   "metadata": {},
   "outputs": [],
   "source": [
    "OpentestPredict = testPredict\n",
    "#print(OpentestPredict[:,:1])"
   ]
  },
  {
   "cell_type": "code",
   "execution_count": 111,
   "metadata": {},
   "outputs": [],
   "source": [
    "HightestPredict = testPredict\n",
    "#print(HightestPredict[:,1:2])"
   ]
  },
  {
   "cell_type": "code",
   "execution_count": 112,
   "metadata": {},
   "outputs": [],
   "source": [
    "LowtestPredict = testPredict\n",
    "#print(LowtestPredict[:,2:3])"
   ]
  },
  {
   "cell_type": "code",
   "execution_count": 113,
   "metadata": {},
   "outputs": [],
   "source": [
    "ClosetestPredict = testPredict\n",
    "#print(ClosetestPredict[:,3:4])"
   ]
  },
  {
   "cell_type": "code",
   "execution_count": 114,
   "metadata": {},
   "outputs": [
    {
     "data": {
      "image/png": "[encoded data removed]",
      "text/plain": [
       "<Figure size 432x288 with 1 Axes>"
      ]
     },
     "metadata": {
      "needs_background": "light"
     },
     "output_type": "display_data"
    }
   ],
   "source": [
    "# # shift opentrain predictions for plotting\n",
    "OpentrainPlot = np.empty_like(Opentrain[:,:1])\n",
    "OpentrainPlot = Opentrain[:,:1]\n",
    "# shift OpentrainPredict predictions for plotting\n",
    "OpentrainPredictPlot = np.empty_like(OpentrainPredict[:,:1])\n",
    "OpentrainPredictPlot = OpentrainPredict[:,:1]\n",
    "# # plot baseline and predictions\n",
    "plt.plot(OpentrainPlot, '', label='Original open train price' )\n",
    "plt.plot(OpentrainPredictPlot, '', label='Predicted open train price' )\n",
    "plt.ylabel('Opening price')\n",
    "plt.xlabel(\"Trading days\")\n",
    "plt.legend(loc='upper left')\n",
    "plt.title('Stock Price Prediction-DAE-LSTM Model')\n",
    "plt.show()"
   ]
  },
  {
   "cell_type": "code",
   "execution_count": 115,
   "metadata": {},
   "outputs": [
    {
     "data": {
      "image/png": "[encoded data removed]",
      "text/plain": [
       "<Figure size 432x288 with 1 Axes>"
      ]
     },
     "metadata": {
      "needs_background": "light"
     },
     "output_type": "display_data"
    }
   ],
   "source": [
    "# # shift Hightrain predictions for plotting\n",
    "HightrainPlot = np.empty_like(Hightrain[:,1:2])\n",
    "HightrainPlot = Hightrain[:,1:2]\n",
    "# shift HightrainPredict predictions for plotting\n",
    "HightrainPredictPlot = np.empty_like(HightrainPredict[:,1:2])\n",
    "HightrainPredictPlot = HightrainPredict[:,1:2]\n",
    "# # plot baseline and predictions\n",
    "plt.plot(HightrainPlot, '', label='Original high train price' )\n",
    "plt.plot(HightrainPredictPlot, 'r', label='Predicted high train price' )\n",
    "plt.ylabel('High price')\n",
    "plt.xlabel(\"Trading days\")\n",
    "plt.legend(loc='upper left')\n",
    "plt.title('Stock Price Prediction-DAE-LSTM Model')\n",
    "plt.show()"
   ]
  },
  {
   "cell_type": "code",
   "execution_count": 116,
   "metadata": {},
   "outputs": [
    {
     "data": {
      "image/png": "[encoded data removed]",
      "text/plain": [
       "<Figure size 432x288 with 1 Axes>"
      ]
     },
     "metadata": {
      "needs_background": "light"
     },
     "output_type": "display_data"
    }
   ],
   "source": [
    "# # shift Lowtrain predictions for plotting\n",
    "LowtrainPlot = np.empty_like(Lowtrain[:,2:3])\n",
    "LowtrainPlot = Lowtrain[:,2:3]\n",
    "# shift LowtrainPredict predictions for plotting\n",
    "LowtrainPredictPlot = np.empty_like(LowtrainPredict[:,2:3])\n",
    "LowtrainPredictPlot = LowtrainPredict[:,2:3]\n",
    "# # plot baseline and predictions\n",
    "plt.plot(LowtrainPlot, '', label='Original Low train price' )\n",
    "plt.plot(LowtrainPredictPlot, 'y', label='Predicted Low train price' )\n",
    "plt.ylabel('Low price')\n",
    "plt.xlabel(\"Trading days\")\n",
    "plt.legend(loc='upper left')\n",
    "plt.title('Stock Price Prediction-DAE-LSTM Model')\n",
    "plt.show()"
   ]
  },
  {
   "cell_type": "code",
   "execution_count": 117,
   "metadata": {},
   "outputs": [
    {
     "data": {
      "image/png": "[encoded data removed]",
      "text/plain": [
       "<Figure size 432x288 with 1 Axes>"
      ]
     },
     "metadata": {
      "needs_background": "light"
     },
     "output_type": "display_data"
    }
   ],
   "source": [
    "# # shift Closetrain predictions for plotting\n",
    "ClosetrainPlot = np.empty_like(Closetrain[:,3:4])\n",
    "ClosetrainPlot = Hightrain[:,3:4]\n",
    "# shift ClosetrainPredict predictions for plotting\n",
    "ClosetrainPredictPlot = np.empty_like(ClosetrainPredict[:,3:4])\n",
    "ClosetrainPredictPlot = ClosetrainPredict[:,3:4]\n",
    "# # plot baseline and predictions\n",
    "plt.plot(ClosetrainPlot, '', label='Original Close train price' )\n",
    "plt.plot(ClosetrainPredictPlot, '', label='Predicted Close train price' )\n",
    "plt.ylabel('Close price')\n",
    "plt.xlabel(\"Trading days\")\n",
    "plt.legend(loc='upper left')\n",
    "plt.title('Stock Price Prediction-DAE-LSTM Model')\n",
    "plt.show()"
   ]
  },
  {
   "cell_type": "code",
   "execution_count": 118,
   "metadata": {},
   "outputs": [
    {
     "data": {
      "image/png": "[encoded data removed]",
      "text/plain": [
       "<Figure size 432x288 with 1 Axes>"
      ]
     },
     "metadata": {
      "needs_background": "light"
     },
     "output_type": "display_data"
    }
   ],
   "source": [
    "\n",
    "# shift OpentestPredict predictions for plotting\n",
    "OpentestPlot = np.empty_like(Opentrain[:,:1])\n",
    "OpentestPlot = Opentest[:,:1]\n",
    "# shift OpentestPredict predictions for plotting\n",
    "OpentestPredictPlot = np.empty_like(OpentestPredict[:,:1])\n",
    "OpentestPredictPlot = OpentestPredict[:,:1]\n",
    "# # plot baseline and predictions\n",
    "plt.plot(OpentestPlot, 'r', label='Original Close price' )\n",
    "plt.plot(OpentestPredictPlot, 'b', label='Predicted Close price' )\n",
    "plt.ylabel('Closing price')\n",
    "plt.xlabel(\"Trading days\")\n",
    "plt.legend(loc='upper left')\n",
    "plt.title('Stock Price Prediction-DAE-LSTM Model')\n",
    "plt.show()"
   ]
  },
  {
   "cell_type": "code",
   "execution_count": 119,
   "metadata": {},
   "outputs": [
    {
     "data": {
      "image/png": "[encoded data removed]",
      "text/plain": [
       "<Figure size 432x288 with 1 Axes>"
      ]
     },
     "metadata": {
      "needs_background": "light"
     },
     "output_type": "display_data"
    }
   ],
   "source": [
    "# shift Hightest predictions for plotting\n",
    "HightestPlot = np.empty_like(Hightest[:,1:2])\n",
    "HightestPlot = Hightest[:,1:2]\n",
    "# shift HightestPredict predictions for plotting\n",
    "HightestPredictPlot = np.empty_like(HightestPredict[:,1:2])\n",
    "HightestPredictPlot = HightestPredict[:,1:2]\n",
    "# # plot baseline and predictions\n",
    "plt.plot(HightestPlot, 'y', label='Original test High price' )\n",
    "plt.plot(HightestPredictPlot, '', label='Predicted test High price' )\n",
    "plt.ylabel('High price')\n",
    "plt.xlabel(\"Trading days\")\n",
    "plt.legend(loc='upper left')\n",
    "plt.title('Stock Price Prediction-DAE-LSTM Model')\n",
    "plt.show()"
   ]
  },
  {
   "cell_type": "code",
   "execution_count": 120,
   "metadata": {},
   "outputs": [
    {
     "data": {
      "image/png": "[encoded data removed]",
      "text/plain": [
       "<Figure size 432x288 with 1 Axes>"
      ]
     },
     "metadata": {
      "needs_background": "light"
     },
     "output_type": "display_data"
    }
   ],
   "source": [
    "# shift Lowtest predictions for plotting\n",
    "LowtestPlot = np.empty_like(Lowtest[:,2:3])\n",
    "LowtestPlot = Lowtest[:,2:3]\n",
    "# shift LowtrainPredict predictions for plotting\n",
    "LowtestPredictPlot = np.empty_like(LowtestPredict[:,2:3])\n",
    "LowtestPredictPlot = LowtestPredict[:,2:3]\n",
    "# # plot baseline and predictions\n",
    "plt.plot(LowtestPlot, 'r', label='Original test Low price' )\n",
    "plt.plot(LowtestPredictPlot, '', label='Predicted test Low price' )\n",
    "plt.ylabel('Low price')\n",
    "plt.xlabel(\"Trading days\")\n",
    "plt.legend(loc='upper left')\n",
    "plt.title('Stock Price Prediction-DAE-LSTM Model')\n",
    "plt.show()"
   ]
  },
  {
   "cell_type": "code",
   "execution_count": 121,
   "metadata": {},
   "outputs": [
    {
     "data": {
      "image/png": "[encoded data removed]",
      "text/plain": [
       "<Figure size 432x288 with 1 Axes>"
      ]
     },
     "metadata": {
      "needs_background": "light"
     },
     "output_type": "display_data"
    }
   ],
   "source": [
    "# shift Closetest predictions for plotting\n",
    "ClosetestPlot = np.empty_like(Closetest[:,3:4])\n",
    "ClosetestPlot = Closetest[:,3:4]\n",
    "# shift ClosetrainPredict predictions for plotting\n",
    "ClosetestPredictPlot = np.empty_like(ClosetestPredict[:,3:4])\n",
    "ClosetestPredictPlot = ClosetestPredict[:,3:4]\n",
    "# # plot baseline and predictions\n",
    "plt.plot(ClosetestPlot, 'r', label='Original test Close price' )\n",
    "plt.plot(ClosetestPredictPlot, '', label='Predicted test Close price' )\n",
    "plt.ylabel('Close price')\n",
    "plt.xlabel(\"Trading days\")\n",
    "plt.legend(loc='upper left')\n",
    "plt.title('Stock Price Prediction-DAE-LSTM Model')\n",
    "plt.show()"
   ]
  },
  {
   "cell_type": "code",
   "execution_count": 122,
   "metadata": {},
   "outputs": [
    {
     "name": "stdout",
     "output_type": "stream",
     "text": [
      "[[25.689804 25.992235 25.434107 25.720686]\n",
      " [25.232447 25.59277  25.040146 25.399208]\n",
      " [25.395525 25.665668 25.109612 25.35173 ]\n",
      " ...\n",
      " [55.800102 56.667484 55.293945 56.11977 ]\n",
      " [56.947098 57.588123 56.196785 56.784935]\n",
      " [57.70821  58.503117 57.120476 57.78838 ]]\n"
     ]
    }
   ],
   "source": [
    "print(testY[:,:])"
   ]
  },
  {
   "cell_type": "code",
   "execution_count": 123,
   "metadata": {},
   "outputs": [
    {
     "name": "stdout",
     "output_type": "stream",
     "text": [
      "Train Score: 0.78 RMSE\n",
      "Test Score: 1.03 RMSE\n"
     ]
    }
   ],
   "source": [
    "# calculate root mean squared error\n",
    "# trainScore = math.sqrt(mean_squared_error(trainY[0], trainPredict[:,0]))\n",
    "# print('Train Score: %.2f RMSE' % (trainScore))\n",
    "# testScore = math.sqrt(mean_squared_error(testY[0], testPredict[:,0]))\n",
    "# print('Test Score: %.2f RMSE' % (testScore))\n",
    "\n",
    "trainScore = math.sqrt(mean_squared_error(trainY[:,:], trainPredict[:,:]))\n",
    "print('Train Score: %.2f RMSE' % (trainScore))\n",
    "testScore = math.sqrt(mean_squared_error(testY[:,:], testPredict[:,:]))\n",
    "print('Test Score: %.2f RMSE' % (testScore))"
   ]
  },
  {
   "cell_type": "code",
   "execution_count": 124,
   "metadata": {},
   "outputs": [],
   "source": [
    "# shift train predictions for plotting\n",
    "trainPredictPlot = np.empty_like(dataset)\n",
    "trainPredictPlot[:, :] = np.nan\n",
    "trainPredictPlot[look_back:len(trainPredict)+look_back, :] = trainPredict"
   ]
  },
  {
   "cell_type": "code",
   "execution_count": 125,
   "metadata": {},
   "outputs": [],
   "source": [
    "# shift test predictions for plotting\n",
    "testPredictPlot = np.empty_like(dataset)\n",
    "testPredictPlot[:, :] = np.nan\n",
    "testPredictPlot[len(trainPredict)+(look_back*2):len(dataset), :] = testPredict"
   ]
  },
  {
   "cell_type": "code",
   "execution_count": 126,
   "metadata": {},
   "outputs": [
    {
     "data": {
      "image/png": "[encoded data removed]",
      "text/plain": [
       "<Figure size 432x288 with 1 Axes>"
      ]
     },
     "metadata": {
      "needs_background": "light"
     },
     "output_type": "display_data"
    }
   ],
   "source": [
    "# plot baseline and predictions\n",
    "plt.plot(scaler.inverse_transform(dataset))\n",
    "plt.plot(trainPredictPlot)\n",
    "plt.plot(testPredictPlot)\n",
    "plt.show()"
   ]
  },
  {
   "cell_type": "code",
   "execution_count": 127,
   "metadata": {},
   "outputs": [
    {
     "name": "stdout",
     "output_type": "stream",
     "text": [
      "[56.164692 56.870876 55.04885  56.14502 ]\n",
      "[1. 1. 1. 1.]\n"
     ]
    }
   ],
   "source": [
    "# PREDICT FUTURE VALUES\n",
    "last_val = testPredict[-1,:]\n",
    "print(last_val)\n",
    "last_val_scaled = last_val/last_val\n",
    "print(last_val_scaled)\n"
   ]
  },
  {
   "cell_type": "code",
   "execution_count": 128,
   "metadata": {},
   "outputs": [
    {
     "name": "stdout",
     "output_type": "stream",
     "text": [
      "(1, 2, 4)\n",
      "[[0.9465151  0.9451292  0.93446213 0.94451785]]\n"
     ]
    }
   ],
   "source": [
    "yy = yhat[-2:,:]\n",
    "yy=yy.reshape((-1,2,4))\n",
    "print(np.shape(yy))\n",
    "#print(yy)\n",
    "nexty = model.predict(yy)\n",
    "print(nexty)"
   ]
  },
  {
   "cell_type": "code",
   "execution_count": 129,
   "metadata": {},
   "outputs": [
    {
     "name": "stdout",
     "output_type": "stream",
     "text": [
      "[[55.434372 56.137802 54.363373 55.42656 ]]\n"
     ]
    }
   ],
   "source": [
    "actualnexty = scaler.inverse_transform(nexty)\n",
    "print(actualnexty)"
   ]
  },
  {
   "cell_type": "code",
   "execution_count": 130,
   "metadata": {},
   "outputs": [
    {
     "name": "stdout",
     "output_type": "stream",
     "text": [
      "[55.43437194824219, 56.13780212402344, 54.363372802734375, 55.42655944824219]\n",
      "[55.561214447021484, 56.273353576660156, 54.485958099365234, 55.55558776855469]\n",
      "[55.17428207397461, 55.87944793701172, 54.11958312988281, 55.170501708984375]\n",
      "[55.088619232177734, 55.79602813720703, 54.0397834777832, 55.08681869506836]\n"
     ]
    }
   ],
   "source": [
    "period = 4\n",
    "yresult = []\n",
    "yy = yhat[-2:,:]\n",
    "#yy=yy.reshape((-1,2,4))\n",
    "for i in range(period):\n",
    "    yy=yy.reshape((-1,2,4))\n",
    "    nexty = model.predict(yy)\n",
    "    #print(nexty)\n",
    "    actualnexty = scaler.inverse_transform(nexty)\n",
    "    #print(actualnexty)\n",
    "    yresult.append(actualnexty[0].tolist())\n",
    "    yy = yy[0]\n",
    "    #print(yy)\n",
    "    yy=np.delete(yy,0,axis=0)\n",
    "    #print(ary)\n",
    "    yy=np.insert(yy,1,nexty[0],axis=0)\n",
    "    #print(yy)\n",
    "for y in yresult:\n",
    "    print(y)"
   ]
  },
  {
   "cell_type": "code",
   "execution_count": 131,
   "metadata": {},
   "outputs": [
    {
     "name": "stdout",
     "output_type": "stream",
     "text": [
      "0.46533278\n",
      "0.71593606\n"
     ]
    }
   ],
   "source": [
    "from sklearn.metrics import mean_absolute_error\n",
    "Train_MAE = mean_absolute_error(trainY[:,:], trainPredict[:,:])\n",
    "print(Train_MAE)\n",
    "Test_MAE = mean_absolute_error(testY[:,:], testPredict[:,:])\n",
    "print(Test_MAE)"
   ]
  },
  {
   "cell_type": "code",
   "execution_count": 132,
   "metadata": {},
   "outputs": [
    {
     "name": "stdout",
     "output_type": "stream",
     "text": [
      "0.991135158658238\n",
      "0.9792509066746873\n"
     ]
    }
   ],
   "source": [
    "from sklearn.metrics import r2_score\n",
    "Train_R2 = r2_score(trainY[:,:], trainPredict[:,:])\n",
    "print(Train_R2)\n",
    "Test_R2 = r2_score(testY[:,:], testPredict[:,:])\n",
    "print(Test_R2)"
   ]
  },
  {
   "cell_type": "code",
   "execution_count": 133,
   "metadata": {},
   "outputs": [
    {
     "name": "stdout",
     "output_type": "stream",
     "text": [
      "1.698106899857521\n"
     ]
    }
   ],
   "source": [
    "import numpy as np\n",
    "\n",
    "def mean_absolute_percentage_error_train(trainY, trainPredict): \n",
    "    trainY, trainPredict = np.array(trainY), np.array(trainPredict)\n",
    "    return np.mean(np.abs((trainY - trainPredict) / trainY)) * 100\n",
    "print(mean_absolute_percentage_error_train(trainY, trainPredict))"
   ]
  },
  {
   "cell_type": "code",
   "execution_count": 134,
   "metadata": {},
   "outputs": [
    {
     "name": "stdout",
     "output_type": "stream",
     "text": [
      "2.2502245381474495\n"
     ]
    }
   ],
   "source": [
    "import numpy as np\n",
    "\n",
    "def mean_absolute_percentage_error_test(testY, testPredict): \n",
    "    testY, testPredict = np.array(testY), np.array(testPredict)\n",
    "    return np.mean(np.abs((testY - testPredict) / testY)) * 100\n",
    "print(mean_absolute_percentage_error_test(testY, testPredict))"
   ]
  },
  {
   "cell_type": "code",
   "execution_count": null,
   "metadata": {},
   "outputs": [],
   "source": []
  },
  {
   "cell_type": "code",
   "execution_count": null,
   "metadata": {},
   "outputs": [],
   "source": []
  }
 ],
 "metadata": {
  "kernelspec": {
   "display_name": "Python 3",
   "language": "python",
   "name": "python3"
  },
  "language_info": {
   "codemirror_mode": {
    "name": "ipython",
    "version": 3
   },
   "file_extension": ".py",
   "mimetype": "text/x-python",
   "name": "python",
   "nbconvert_exporter": "python",
   "pygments_lexer": "ipython3",
   "version": "3.6.8"
  }
 },
 "nbformat": 4,
 "nbformat_minor": 2
}
